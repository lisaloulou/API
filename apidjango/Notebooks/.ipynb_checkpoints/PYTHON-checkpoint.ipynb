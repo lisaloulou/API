{
 "cells": [
  {
   "cell_type": "code",
   "execution_count": 116,
   "id": "aa5392c0",
   "metadata": {},
   "outputs": [],
   "source": [
    "import pandas as pd\n",
    "import numpy as np\n",
    "import matplotlib.pyplot as plt\n",
    "from sklearn.metrics import mean_squared_error,mean_absolute_error,r2_score\n",
    "import seaborn as sns\n",
    "%matplotlib inline\n",
    "import seaborn as sns\n",
    "sns.set_theme() \n",
    "from sklearn import svm\n",
    "from sklearn.model_selection import cross_val_score\n",
    "from sklearn.model_selection import GridSearchCV"
   ]
  },
  {
   "cell_type": "code",
   "execution_count": 117,
   "id": "517db355",
   "metadata": {},
   "outputs": [],
   "source": [
    "from plotly import tools\n",
    "import plotly.offline as py\n",
    "import plotly.graph_objs as go"
   ]
  },
  {
   "cell_type": "code",
   "execution_count": 118,
   "id": "e6cfcc40",
   "metadata": {},
   "outputs": [
    {
     "data": {
      "text/html": [
       "<div>\n",
       "<style scoped>\n",
       "    .dataframe tbody tr th:only-of-type {\n",
       "        vertical-align: middle;\n",
       "    }\n",
       "\n",
       "    .dataframe tbody tr th {\n",
       "        vertical-align: top;\n",
       "    }\n",
       "\n",
       "    .dataframe thead th {\n",
       "        text-align: right;\n",
       "    }\n",
       "</style>\n",
       "<table border=\"1\" class=\"dataframe\">\n",
       "  <thead>\n",
       "    <tr style=\"text-align: right;\">\n",
       "      <th></th>\n",
       "      <th>Date</th>\n",
       "      <th>Rented Bike Count</th>\n",
       "      <th>Hour</th>\n",
       "      <th>Temperature(°C)</th>\n",
       "      <th>Humidity(%)</th>\n",
       "      <th>Wind speed (m/s)</th>\n",
       "      <th>Visibility (10m)</th>\n",
       "      <th>Dew point temperature(°C)</th>\n",
       "      <th>Solar Radiation (MJ/m2)</th>\n",
       "      <th>Rainfall(mm)</th>\n",
       "      <th>Snowfall (cm)</th>\n",
       "      <th>Seasons</th>\n",
       "      <th>Holiday</th>\n",
       "      <th>Functioning Day</th>\n",
       "    </tr>\n",
       "  </thead>\n",
       "  <tbody>\n",
       "    <tr>\n",
       "      <th>0</th>\n",
       "      <td>01/12/2017</td>\n",
       "      <td>254</td>\n",
       "      <td>0</td>\n",
       "      <td>-5.2</td>\n",
       "      <td>37</td>\n",
       "      <td>2.2</td>\n",
       "      <td>2000</td>\n",
       "      <td>-17.6</td>\n",
       "      <td>0.0</td>\n",
       "      <td>0.0</td>\n",
       "      <td>0.0</td>\n",
       "      <td>Winter</td>\n",
       "      <td>No Holiday</td>\n",
       "      <td>Yes</td>\n",
       "    </tr>\n",
       "    <tr>\n",
       "      <th>1</th>\n",
       "      <td>01/12/2017</td>\n",
       "      <td>204</td>\n",
       "      <td>1</td>\n",
       "      <td>-5.5</td>\n",
       "      <td>38</td>\n",
       "      <td>0.8</td>\n",
       "      <td>2000</td>\n",
       "      <td>-17.6</td>\n",
       "      <td>0.0</td>\n",
       "      <td>0.0</td>\n",
       "      <td>0.0</td>\n",
       "      <td>Winter</td>\n",
       "      <td>No Holiday</td>\n",
       "      <td>Yes</td>\n",
       "    </tr>\n",
       "    <tr>\n",
       "      <th>2</th>\n",
       "      <td>01/12/2017</td>\n",
       "      <td>173</td>\n",
       "      <td>2</td>\n",
       "      <td>-6.0</td>\n",
       "      <td>39</td>\n",
       "      <td>1.0</td>\n",
       "      <td>2000</td>\n",
       "      <td>-17.7</td>\n",
       "      <td>0.0</td>\n",
       "      <td>0.0</td>\n",
       "      <td>0.0</td>\n",
       "      <td>Winter</td>\n",
       "      <td>No Holiday</td>\n",
       "      <td>Yes</td>\n",
       "    </tr>\n",
       "    <tr>\n",
       "      <th>3</th>\n",
       "      <td>01/12/2017</td>\n",
       "      <td>107</td>\n",
       "      <td>3</td>\n",
       "      <td>-6.2</td>\n",
       "      <td>40</td>\n",
       "      <td>0.9</td>\n",
       "      <td>2000</td>\n",
       "      <td>-17.6</td>\n",
       "      <td>0.0</td>\n",
       "      <td>0.0</td>\n",
       "      <td>0.0</td>\n",
       "      <td>Winter</td>\n",
       "      <td>No Holiday</td>\n",
       "      <td>Yes</td>\n",
       "    </tr>\n",
       "    <tr>\n",
       "      <th>4</th>\n",
       "      <td>01/12/2017</td>\n",
       "      <td>78</td>\n",
       "      <td>4</td>\n",
       "      <td>-6.0</td>\n",
       "      <td>36</td>\n",
       "      <td>2.3</td>\n",
       "      <td>2000</td>\n",
       "      <td>-18.6</td>\n",
       "      <td>0.0</td>\n",
       "      <td>0.0</td>\n",
       "      <td>0.0</td>\n",
       "      <td>Winter</td>\n",
       "      <td>No Holiday</td>\n",
       "      <td>Yes</td>\n",
       "    </tr>\n",
       "  </tbody>\n",
       "</table>\n",
       "</div>"
      ],
      "text/plain": [
       "         Date  Rented Bike Count  Hour  Temperature(°C)  Humidity(%)  \\\n",
       "0  01/12/2017                254     0             -5.2           37   \n",
       "1  01/12/2017                204     1             -5.5           38   \n",
       "2  01/12/2017                173     2             -6.0           39   \n",
       "3  01/12/2017                107     3             -6.2           40   \n",
       "4  01/12/2017                 78     4             -6.0           36   \n",
       "\n",
       "   Wind speed (m/s)  Visibility (10m)  Dew point temperature(°C)  \\\n",
       "0               2.2              2000                      -17.6   \n",
       "1               0.8              2000                      -17.6   \n",
       "2               1.0              2000                      -17.7   \n",
       "3               0.9              2000                      -17.6   \n",
       "4               2.3              2000                      -18.6   \n",
       "\n",
       "   Solar Radiation (MJ/m2)  Rainfall(mm)  Snowfall (cm) Seasons     Holiday  \\\n",
       "0                      0.0           0.0            0.0  Winter  No Holiday   \n",
       "1                      0.0           0.0            0.0  Winter  No Holiday   \n",
       "2                      0.0           0.0            0.0  Winter  No Holiday   \n",
       "3                      0.0           0.0            0.0  Winter  No Holiday   \n",
       "4                      0.0           0.0            0.0  Winter  No Holiday   \n",
       "\n",
       "  Functioning Day  \n",
       "0             Yes  \n",
       "1             Yes  \n",
       "2             Yes  \n",
       "3             Yes  \n",
       "4             Yes  "
      ]
     },
     "execution_count": 118,
     "metadata": {},
     "output_type": "execute_result"
    }
   ],
   "source": [
    "# reading csv files\n",
    "data =  pd.read_csv(\"SeoulBikeData.csv\", encoding=\"latin-1\")\n",
    "data.head(5)"
   ]
  },
  {
   "cell_type": "code",
   "execution_count": 119,
   "id": "75023aff",
   "metadata": {},
   "outputs": [
    {
     "data": {
      "text/plain": [
       "(8760, 14)"
      ]
     },
     "execution_count": 119,
     "metadata": {},
     "output_type": "execute_result"
    }
   ],
   "source": [
    "data.shape"
   ]
  },
  {
   "cell_type": "markdown",
   "id": "ce9a32ee",
   "metadata": {},
   "source": [
    "#### Renommage des colonnes"
   ]
  },
  {
   "cell_type": "code",
   "execution_count": 120,
   "id": "90712deb",
   "metadata": {},
   "outputs": [
    {
     "data": {
      "text/html": [
       "<div>\n",
       "<style scoped>\n",
       "    .dataframe tbody tr th:only-of-type {\n",
       "        vertical-align: middle;\n",
       "    }\n",
       "\n",
       "    .dataframe tbody tr th {\n",
       "        vertical-align: top;\n",
       "    }\n",
       "\n",
       "    .dataframe thead th {\n",
       "        text-align: right;\n",
       "    }\n",
       "</style>\n",
       "<table border=\"1\" class=\"dataframe\">\n",
       "  <thead>\n",
       "    <tr style=\"text-align: right;\">\n",
       "      <th></th>\n",
       "      <th>Date</th>\n",
       "      <th>Rented_bike_count</th>\n",
       "      <th>Hour</th>\n",
       "      <th>Temperature</th>\n",
       "      <th>Humidity</th>\n",
       "      <th>Wind_speed</th>\n",
       "      <th>Visibility</th>\n",
       "      <th>Dew_point_temperature</th>\n",
       "      <th>Solar_Radiation</th>\n",
       "      <th>Rainfall</th>\n",
       "      <th>Snowfall</th>\n",
       "      <th>Seasons</th>\n",
       "      <th>Holiday</th>\n",
       "      <th>Functioning Day</th>\n",
       "    </tr>\n",
       "  </thead>\n",
       "  <tbody>\n",
       "    <tr>\n",
       "      <th>0</th>\n",
       "      <td>01/12/2017</td>\n",
       "      <td>254</td>\n",
       "      <td>0</td>\n",
       "      <td>-5.2</td>\n",
       "      <td>37</td>\n",
       "      <td>2.2</td>\n",
       "      <td>2000</td>\n",
       "      <td>-17.6</td>\n",
       "      <td>0.0</td>\n",
       "      <td>0.0</td>\n",
       "      <td>0.0</td>\n",
       "      <td>Winter</td>\n",
       "      <td>No Holiday</td>\n",
       "      <td>Yes</td>\n",
       "    </tr>\n",
       "    <tr>\n",
       "      <th>1</th>\n",
       "      <td>01/12/2017</td>\n",
       "      <td>204</td>\n",
       "      <td>1</td>\n",
       "      <td>-5.5</td>\n",
       "      <td>38</td>\n",
       "      <td>0.8</td>\n",
       "      <td>2000</td>\n",
       "      <td>-17.6</td>\n",
       "      <td>0.0</td>\n",
       "      <td>0.0</td>\n",
       "      <td>0.0</td>\n",
       "      <td>Winter</td>\n",
       "      <td>No Holiday</td>\n",
       "      <td>Yes</td>\n",
       "    </tr>\n",
       "    <tr>\n",
       "      <th>2</th>\n",
       "      <td>01/12/2017</td>\n",
       "      <td>173</td>\n",
       "      <td>2</td>\n",
       "      <td>-6.0</td>\n",
       "      <td>39</td>\n",
       "      <td>1.0</td>\n",
       "      <td>2000</td>\n",
       "      <td>-17.7</td>\n",
       "      <td>0.0</td>\n",
       "      <td>0.0</td>\n",
       "      <td>0.0</td>\n",
       "      <td>Winter</td>\n",
       "      <td>No Holiday</td>\n",
       "      <td>Yes</td>\n",
       "    </tr>\n",
       "    <tr>\n",
       "      <th>3</th>\n",
       "      <td>01/12/2017</td>\n",
       "      <td>107</td>\n",
       "      <td>3</td>\n",
       "      <td>-6.2</td>\n",
       "      <td>40</td>\n",
       "      <td>0.9</td>\n",
       "      <td>2000</td>\n",
       "      <td>-17.6</td>\n",
       "      <td>0.0</td>\n",
       "      <td>0.0</td>\n",
       "      <td>0.0</td>\n",
       "      <td>Winter</td>\n",
       "      <td>No Holiday</td>\n",
       "      <td>Yes</td>\n",
       "    </tr>\n",
       "    <tr>\n",
       "      <th>4</th>\n",
       "      <td>01/12/2017</td>\n",
       "      <td>78</td>\n",
       "      <td>4</td>\n",
       "      <td>-6.0</td>\n",
       "      <td>36</td>\n",
       "      <td>2.3</td>\n",
       "      <td>2000</td>\n",
       "      <td>-18.6</td>\n",
       "      <td>0.0</td>\n",
       "      <td>0.0</td>\n",
       "      <td>0.0</td>\n",
       "      <td>Winter</td>\n",
       "      <td>No Holiday</td>\n",
       "      <td>Yes</td>\n",
       "    </tr>\n",
       "    <tr>\n",
       "      <th>...</th>\n",
       "      <td>...</td>\n",
       "      <td>...</td>\n",
       "      <td>...</td>\n",
       "      <td>...</td>\n",
       "      <td>...</td>\n",
       "      <td>...</td>\n",
       "      <td>...</td>\n",
       "      <td>...</td>\n",
       "      <td>...</td>\n",
       "      <td>...</td>\n",
       "      <td>...</td>\n",
       "      <td>...</td>\n",
       "      <td>...</td>\n",
       "      <td>...</td>\n",
       "    </tr>\n",
       "    <tr>\n",
       "      <th>8755</th>\n",
       "      <td>30/11/2018</td>\n",
       "      <td>1003</td>\n",
       "      <td>19</td>\n",
       "      <td>4.2</td>\n",
       "      <td>34</td>\n",
       "      <td>2.6</td>\n",
       "      <td>1894</td>\n",
       "      <td>-10.3</td>\n",
       "      <td>0.0</td>\n",
       "      <td>0.0</td>\n",
       "      <td>0.0</td>\n",
       "      <td>Autumn</td>\n",
       "      <td>No Holiday</td>\n",
       "      <td>Yes</td>\n",
       "    </tr>\n",
       "    <tr>\n",
       "      <th>8756</th>\n",
       "      <td>30/11/2018</td>\n",
       "      <td>764</td>\n",
       "      <td>20</td>\n",
       "      <td>3.4</td>\n",
       "      <td>37</td>\n",
       "      <td>2.3</td>\n",
       "      <td>2000</td>\n",
       "      <td>-9.9</td>\n",
       "      <td>0.0</td>\n",
       "      <td>0.0</td>\n",
       "      <td>0.0</td>\n",
       "      <td>Autumn</td>\n",
       "      <td>No Holiday</td>\n",
       "      <td>Yes</td>\n",
       "    </tr>\n",
       "    <tr>\n",
       "      <th>8757</th>\n",
       "      <td>30/11/2018</td>\n",
       "      <td>694</td>\n",
       "      <td>21</td>\n",
       "      <td>2.6</td>\n",
       "      <td>39</td>\n",
       "      <td>0.3</td>\n",
       "      <td>1968</td>\n",
       "      <td>-9.9</td>\n",
       "      <td>0.0</td>\n",
       "      <td>0.0</td>\n",
       "      <td>0.0</td>\n",
       "      <td>Autumn</td>\n",
       "      <td>No Holiday</td>\n",
       "      <td>Yes</td>\n",
       "    </tr>\n",
       "    <tr>\n",
       "      <th>8758</th>\n",
       "      <td>30/11/2018</td>\n",
       "      <td>712</td>\n",
       "      <td>22</td>\n",
       "      <td>2.1</td>\n",
       "      <td>41</td>\n",
       "      <td>1.0</td>\n",
       "      <td>1859</td>\n",
       "      <td>-9.8</td>\n",
       "      <td>0.0</td>\n",
       "      <td>0.0</td>\n",
       "      <td>0.0</td>\n",
       "      <td>Autumn</td>\n",
       "      <td>No Holiday</td>\n",
       "      <td>Yes</td>\n",
       "    </tr>\n",
       "    <tr>\n",
       "      <th>8759</th>\n",
       "      <td>30/11/2018</td>\n",
       "      <td>584</td>\n",
       "      <td>23</td>\n",
       "      <td>1.9</td>\n",
       "      <td>43</td>\n",
       "      <td>1.3</td>\n",
       "      <td>1909</td>\n",
       "      <td>-9.3</td>\n",
       "      <td>0.0</td>\n",
       "      <td>0.0</td>\n",
       "      <td>0.0</td>\n",
       "      <td>Autumn</td>\n",
       "      <td>No Holiday</td>\n",
       "      <td>Yes</td>\n",
       "    </tr>\n",
       "  </tbody>\n",
       "</table>\n",
       "<p>8760 rows × 14 columns</p>\n",
       "</div>"
      ],
      "text/plain": [
       "            Date  Rented_bike_count  Hour  Temperature  Humidity  Wind_speed  \\\n",
       "0     01/12/2017                254     0         -5.2        37         2.2   \n",
       "1     01/12/2017                204     1         -5.5        38         0.8   \n",
       "2     01/12/2017                173     2         -6.0        39         1.0   \n",
       "3     01/12/2017                107     3         -6.2        40         0.9   \n",
       "4     01/12/2017                 78     4         -6.0        36         2.3   \n",
       "...          ...                ...   ...          ...       ...         ...   \n",
       "8755  30/11/2018               1003    19          4.2        34         2.6   \n",
       "8756  30/11/2018                764    20          3.4        37         2.3   \n",
       "8757  30/11/2018                694    21          2.6        39         0.3   \n",
       "8758  30/11/2018                712    22          2.1        41         1.0   \n",
       "8759  30/11/2018                584    23          1.9        43         1.3   \n",
       "\n",
       "      Visibility  Dew_point_temperature  Solar_Radiation  Rainfall  Snowfall  \\\n",
       "0           2000                  -17.6              0.0       0.0       0.0   \n",
       "1           2000                  -17.6              0.0       0.0       0.0   \n",
       "2           2000                  -17.7              0.0       0.0       0.0   \n",
       "3           2000                  -17.6              0.0       0.0       0.0   \n",
       "4           2000                  -18.6              0.0       0.0       0.0   \n",
       "...          ...                    ...              ...       ...       ...   \n",
       "8755        1894                  -10.3              0.0       0.0       0.0   \n",
       "8756        2000                   -9.9              0.0       0.0       0.0   \n",
       "8757        1968                   -9.9              0.0       0.0       0.0   \n",
       "8758        1859                   -9.8              0.0       0.0       0.0   \n",
       "8759        1909                   -9.3              0.0       0.0       0.0   \n",
       "\n",
       "     Seasons     Holiday Functioning Day  \n",
       "0     Winter  No Holiday             Yes  \n",
       "1     Winter  No Holiday             Yes  \n",
       "2     Winter  No Holiday             Yes  \n",
       "3     Winter  No Holiday             Yes  \n",
       "4     Winter  No Holiday             Yes  \n",
       "...      ...         ...             ...  \n",
       "8755  Autumn  No Holiday             Yes  \n",
       "8756  Autumn  No Holiday             Yes  \n",
       "8757  Autumn  No Holiday             Yes  \n",
       "8758  Autumn  No Holiday             Yes  \n",
       "8759  Autumn  No Holiday             Yes  \n",
       "\n",
       "[8760 rows x 14 columns]"
      ]
     },
     "execution_count": 120,
     "metadata": {},
     "output_type": "execute_result"
    }
   ],
   "source": [
    "data.rename(columns = {\"Rented Bike Count\":\"Rented_bike_count\",\"Temperature(°C)\" : \"Temperature\", \"Humidity(%)\": \"Humidity\", \"Wind speed (m/s)\": \"Wind_speed\", \"Visibility (10m)\":\"Visibility\", \"Dew point temperature(°C)\": \"Dew_point_temperature\", \"Solar Radiation (MJ/m2)\": \"Solar_Radiation\", \"Rainfall(mm)\": \"Rainfall\", \"Snowfall (cm)\": \"Snowfall\"}, inplace=True)\n",
    "data"
   ]
  },
  {
   "cell_type": "code",
   "execution_count": 121,
   "id": "0caf66d5",
   "metadata": {},
   "outputs": [
    {
     "data": {
      "text/plain": [
       "Date                     0.0\n",
       "Rented_bike_count        0.0\n",
       "Hour                     0.0\n",
       "Temperature              0.0\n",
       "Humidity                 0.0\n",
       "Wind_speed               0.0\n",
       "Visibility               0.0\n",
       "Dew_point_temperature    0.0\n",
       "Solar_Radiation          0.0\n",
       "Rainfall                 0.0\n",
       "Snowfall                 0.0\n",
       "Seasons                  0.0\n",
       "Holiday                  0.0\n",
       "Functioning Day          0.0\n",
       "dtype: float64"
      ]
     },
     "execution_count": 121,
     "metadata": {},
     "output_type": "execute_result"
    }
   ],
   "source": [
    "data[data.isna()].sum()"
   ]
  },
  {
   "cell_type": "code",
   "execution_count": 122,
   "id": "138a8b89",
   "metadata": {},
   "outputs": [
    {
     "data": {
      "text/html": [
       "<div>\n",
       "<style scoped>\n",
       "    .dataframe tbody tr th:only-of-type {\n",
       "        vertical-align: middle;\n",
       "    }\n",
       "\n",
       "    .dataframe tbody tr th {\n",
       "        vertical-align: top;\n",
       "    }\n",
       "\n",
       "    .dataframe thead th {\n",
       "        text-align: right;\n",
       "    }\n",
       "</style>\n",
       "<table border=\"1\" class=\"dataframe\">\n",
       "  <thead>\n",
       "    <tr style=\"text-align: right;\">\n",
       "      <th></th>\n",
       "      <th>Date</th>\n",
       "      <th>Rented_bike_count</th>\n",
       "      <th>Hour</th>\n",
       "      <th>Temperature</th>\n",
       "      <th>Humidity</th>\n",
       "      <th>Wind_speed</th>\n",
       "      <th>Visibility</th>\n",
       "      <th>Dew_point_temperature</th>\n",
       "      <th>Solar_Radiation</th>\n",
       "      <th>Rainfall</th>\n",
       "      <th>Snowfall</th>\n",
       "      <th>Seasons</th>\n",
       "      <th>Holiday</th>\n",
       "      <th>Functioning Day</th>\n",
       "    </tr>\n",
       "  </thead>\n",
       "  <tbody>\n",
       "  </tbody>\n",
       "</table>\n",
       "</div>"
      ],
      "text/plain": [
       "Empty DataFrame\n",
       "Columns: [Date, Rented_bike_count, Hour, Temperature, Humidity, Wind_speed, Visibility, Dew_point_temperature, Solar_Radiation, Rainfall, Snowfall, Seasons, Holiday, Functioning Day]\n",
       "Index: []"
      ]
     },
     "execution_count": 122,
     "metadata": {},
     "output_type": "execute_result"
    }
   ],
   "source": [
    "data[(data[\"Rented_bike_count\"]!=0) & (data[\"Functioning Day\"]==\"No\")]"
   ]
  },
  {
   "cell_type": "markdown",
   "id": "e0337ba2",
   "metadata": {},
   "source": [
    "Il n'y a pas de vélo loué lorsque lorsque ce n'est pas un jour de fonctionnement. On peut donc supprimer les ces lignes et ensuite supprimer la colonne entière."
   ]
  },
  {
   "cell_type": "code",
   "execution_count": 123,
   "id": "8b112e99",
   "metadata": {},
   "outputs": [],
   "source": [
    "data = data[data[\"Functioning Day\"]==\"Yes\"]"
   ]
  },
  {
   "cell_type": "code",
   "execution_count": 124,
   "id": "4e442cb7",
   "metadata": {},
   "outputs": [
    {
     "data": {
      "text/html": [
       "<div>\n",
       "<style scoped>\n",
       "    .dataframe tbody tr th:only-of-type {\n",
       "        vertical-align: middle;\n",
       "    }\n",
       "\n",
       "    .dataframe tbody tr th {\n",
       "        vertical-align: top;\n",
       "    }\n",
       "\n",
       "    .dataframe thead th {\n",
       "        text-align: right;\n",
       "    }\n",
       "</style>\n",
       "<table border=\"1\" class=\"dataframe\">\n",
       "  <thead>\n",
       "    <tr style=\"text-align: right;\">\n",
       "      <th></th>\n",
       "      <th>Date</th>\n",
       "      <th>Rented_bike_count</th>\n",
       "      <th>Hour</th>\n",
       "      <th>Temperature</th>\n",
       "      <th>Humidity</th>\n",
       "      <th>Wind_speed</th>\n",
       "      <th>Visibility</th>\n",
       "      <th>Dew_point_temperature</th>\n",
       "      <th>Solar_Radiation</th>\n",
       "      <th>Rainfall</th>\n",
       "      <th>Snowfall</th>\n",
       "      <th>Seasons</th>\n",
       "      <th>Holiday</th>\n",
       "    </tr>\n",
       "  </thead>\n",
       "  <tbody>\n",
       "    <tr>\n",
       "      <th>0</th>\n",
       "      <td>01/12/2017</td>\n",
       "      <td>254</td>\n",
       "      <td>0</td>\n",
       "      <td>-5.2</td>\n",
       "      <td>37</td>\n",
       "      <td>2.2</td>\n",
       "      <td>2000</td>\n",
       "      <td>-17.6</td>\n",
       "      <td>0.0</td>\n",
       "      <td>0.0</td>\n",
       "      <td>0.0</td>\n",
       "      <td>Winter</td>\n",
       "      <td>No Holiday</td>\n",
       "    </tr>\n",
       "    <tr>\n",
       "      <th>1</th>\n",
       "      <td>01/12/2017</td>\n",
       "      <td>204</td>\n",
       "      <td>1</td>\n",
       "      <td>-5.5</td>\n",
       "      <td>38</td>\n",
       "      <td>0.8</td>\n",
       "      <td>2000</td>\n",
       "      <td>-17.6</td>\n",
       "      <td>0.0</td>\n",
       "      <td>0.0</td>\n",
       "      <td>0.0</td>\n",
       "      <td>Winter</td>\n",
       "      <td>No Holiday</td>\n",
       "    </tr>\n",
       "    <tr>\n",
       "      <th>2</th>\n",
       "      <td>01/12/2017</td>\n",
       "      <td>173</td>\n",
       "      <td>2</td>\n",
       "      <td>-6.0</td>\n",
       "      <td>39</td>\n",
       "      <td>1.0</td>\n",
       "      <td>2000</td>\n",
       "      <td>-17.7</td>\n",
       "      <td>0.0</td>\n",
       "      <td>0.0</td>\n",
       "      <td>0.0</td>\n",
       "      <td>Winter</td>\n",
       "      <td>No Holiday</td>\n",
       "    </tr>\n",
       "    <tr>\n",
       "      <th>3</th>\n",
       "      <td>01/12/2017</td>\n",
       "      <td>107</td>\n",
       "      <td>3</td>\n",
       "      <td>-6.2</td>\n",
       "      <td>40</td>\n",
       "      <td>0.9</td>\n",
       "      <td>2000</td>\n",
       "      <td>-17.6</td>\n",
       "      <td>0.0</td>\n",
       "      <td>0.0</td>\n",
       "      <td>0.0</td>\n",
       "      <td>Winter</td>\n",
       "      <td>No Holiday</td>\n",
       "    </tr>\n",
       "    <tr>\n",
       "      <th>4</th>\n",
       "      <td>01/12/2017</td>\n",
       "      <td>78</td>\n",
       "      <td>4</td>\n",
       "      <td>-6.0</td>\n",
       "      <td>36</td>\n",
       "      <td>2.3</td>\n",
       "      <td>2000</td>\n",
       "      <td>-18.6</td>\n",
       "      <td>0.0</td>\n",
       "      <td>0.0</td>\n",
       "      <td>0.0</td>\n",
       "      <td>Winter</td>\n",
       "      <td>No Holiday</td>\n",
       "    </tr>\n",
       "    <tr>\n",
       "      <th>...</th>\n",
       "      <td>...</td>\n",
       "      <td>...</td>\n",
       "      <td>...</td>\n",
       "      <td>...</td>\n",
       "      <td>...</td>\n",
       "      <td>...</td>\n",
       "      <td>...</td>\n",
       "      <td>...</td>\n",
       "      <td>...</td>\n",
       "      <td>...</td>\n",
       "      <td>...</td>\n",
       "      <td>...</td>\n",
       "      <td>...</td>\n",
       "    </tr>\n",
       "    <tr>\n",
       "      <th>8755</th>\n",
       "      <td>30/11/2018</td>\n",
       "      <td>1003</td>\n",
       "      <td>19</td>\n",
       "      <td>4.2</td>\n",
       "      <td>34</td>\n",
       "      <td>2.6</td>\n",
       "      <td>1894</td>\n",
       "      <td>-10.3</td>\n",
       "      <td>0.0</td>\n",
       "      <td>0.0</td>\n",
       "      <td>0.0</td>\n",
       "      <td>Autumn</td>\n",
       "      <td>No Holiday</td>\n",
       "    </tr>\n",
       "    <tr>\n",
       "      <th>8756</th>\n",
       "      <td>30/11/2018</td>\n",
       "      <td>764</td>\n",
       "      <td>20</td>\n",
       "      <td>3.4</td>\n",
       "      <td>37</td>\n",
       "      <td>2.3</td>\n",
       "      <td>2000</td>\n",
       "      <td>-9.9</td>\n",
       "      <td>0.0</td>\n",
       "      <td>0.0</td>\n",
       "      <td>0.0</td>\n",
       "      <td>Autumn</td>\n",
       "      <td>No Holiday</td>\n",
       "    </tr>\n",
       "    <tr>\n",
       "      <th>8757</th>\n",
       "      <td>30/11/2018</td>\n",
       "      <td>694</td>\n",
       "      <td>21</td>\n",
       "      <td>2.6</td>\n",
       "      <td>39</td>\n",
       "      <td>0.3</td>\n",
       "      <td>1968</td>\n",
       "      <td>-9.9</td>\n",
       "      <td>0.0</td>\n",
       "      <td>0.0</td>\n",
       "      <td>0.0</td>\n",
       "      <td>Autumn</td>\n",
       "      <td>No Holiday</td>\n",
       "    </tr>\n",
       "    <tr>\n",
       "      <th>8758</th>\n",
       "      <td>30/11/2018</td>\n",
       "      <td>712</td>\n",
       "      <td>22</td>\n",
       "      <td>2.1</td>\n",
       "      <td>41</td>\n",
       "      <td>1.0</td>\n",
       "      <td>1859</td>\n",
       "      <td>-9.8</td>\n",
       "      <td>0.0</td>\n",
       "      <td>0.0</td>\n",
       "      <td>0.0</td>\n",
       "      <td>Autumn</td>\n",
       "      <td>No Holiday</td>\n",
       "    </tr>\n",
       "    <tr>\n",
       "      <th>8759</th>\n",
       "      <td>30/11/2018</td>\n",
       "      <td>584</td>\n",
       "      <td>23</td>\n",
       "      <td>1.9</td>\n",
       "      <td>43</td>\n",
       "      <td>1.3</td>\n",
       "      <td>1909</td>\n",
       "      <td>-9.3</td>\n",
       "      <td>0.0</td>\n",
       "      <td>0.0</td>\n",
       "      <td>0.0</td>\n",
       "      <td>Autumn</td>\n",
       "      <td>No Holiday</td>\n",
       "    </tr>\n",
       "  </tbody>\n",
       "</table>\n",
       "<p>8465 rows × 13 columns</p>\n",
       "</div>"
      ],
      "text/plain": [
       "            Date  Rented_bike_count  Hour  Temperature  Humidity  Wind_speed  \\\n",
       "0     01/12/2017                254     0         -5.2        37         2.2   \n",
       "1     01/12/2017                204     1         -5.5        38         0.8   \n",
       "2     01/12/2017                173     2         -6.0        39         1.0   \n",
       "3     01/12/2017                107     3         -6.2        40         0.9   \n",
       "4     01/12/2017                 78     4         -6.0        36         2.3   \n",
       "...          ...                ...   ...          ...       ...         ...   \n",
       "8755  30/11/2018               1003    19          4.2        34         2.6   \n",
       "8756  30/11/2018                764    20          3.4        37         2.3   \n",
       "8757  30/11/2018                694    21          2.6        39         0.3   \n",
       "8758  30/11/2018                712    22          2.1        41         1.0   \n",
       "8759  30/11/2018                584    23          1.9        43         1.3   \n",
       "\n",
       "      Visibility  Dew_point_temperature  Solar_Radiation  Rainfall  Snowfall  \\\n",
       "0           2000                  -17.6              0.0       0.0       0.0   \n",
       "1           2000                  -17.6              0.0       0.0       0.0   \n",
       "2           2000                  -17.7              0.0       0.0       0.0   \n",
       "3           2000                  -17.6              0.0       0.0       0.0   \n",
       "4           2000                  -18.6              0.0       0.0       0.0   \n",
       "...          ...                    ...              ...       ...       ...   \n",
       "8755        1894                  -10.3              0.0       0.0       0.0   \n",
       "8756        2000                   -9.9              0.0       0.0       0.0   \n",
       "8757        1968                   -9.9              0.0       0.0       0.0   \n",
       "8758        1859                   -9.8              0.0       0.0       0.0   \n",
       "8759        1909                   -9.3              0.0       0.0       0.0   \n",
       "\n",
       "     Seasons     Holiday  \n",
       "0     Winter  No Holiday  \n",
       "1     Winter  No Holiday  \n",
       "2     Winter  No Holiday  \n",
       "3     Winter  No Holiday  \n",
       "4     Winter  No Holiday  \n",
       "...      ...         ...  \n",
       "8755  Autumn  No Holiday  \n",
       "8756  Autumn  No Holiday  \n",
       "8757  Autumn  No Holiday  \n",
       "8758  Autumn  No Holiday  \n",
       "8759  Autumn  No Holiday  \n",
       "\n",
       "[8465 rows x 13 columns]"
      ]
     },
     "execution_count": 124,
     "metadata": {},
     "output_type": "execute_result"
    }
   ],
   "source": [
    "data = data.drop(columns=\"Functioning Day\")\n",
    "data"
   ]
  },
  {
   "cell_type": "code",
   "execution_count": 125,
   "id": "56322269",
   "metadata": {},
   "outputs": [
    {
     "data": {
      "text/html": [
       "<div>\n",
       "<style scoped>\n",
       "    .dataframe tbody tr th:only-of-type {\n",
       "        vertical-align: middle;\n",
       "    }\n",
       "\n",
       "    .dataframe tbody tr th {\n",
       "        vertical-align: top;\n",
       "    }\n",
       "\n",
       "    .dataframe thead th {\n",
       "        text-align: right;\n",
       "    }\n",
       "</style>\n",
       "<table border=\"1\" class=\"dataframe\">\n",
       "  <thead>\n",
       "    <tr style=\"text-align: right;\">\n",
       "      <th></th>\n",
       "      <th>Rented_bike_count</th>\n",
       "    </tr>\n",
       "    <tr>\n",
       "      <th>Hour</th>\n",
       "      <th></th>\n",
       "    </tr>\n",
       "  </thead>\n",
       "  <tbody>\n",
       "    <tr>\n",
       "      <th>0</th>\n",
       "      <td>561.457386</td>\n",
       "    </tr>\n",
       "    <tr>\n",
       "      <th>1</th>\n",
       "      <td>441.923295</td>\n",
       "    </tr>\n",
       "    <tr>\n",
       "      <th>2</th>\n",
       "      <td>312.769886</td>\n",
       "    </tr>\n",
       "    <tr>\n",
       "      <th>3</th>\n",
       "      <td>210.840909</td>\n",
       "    </tr>\n",
       "    <tr>\n",
       "      <th>4</th>\n",
       "      <td>137.488636</td>\n",
       "    </tr>\n",
       "    <tr>\n",
       "      <th>5</th>\n",
       "      <td>144.218750</td>\n",
       "    </tr>\n",
       "    <tr>\n",
       "      <th>6</th>\n",
       "      <td>298.184659</td>\n",
       "    </tr>\n",
       "    <tr>\n",
       "      <th>7</th>\n",
       "      <td>626.606232</td>\n",
       "    </tr>\n",
       "    <tr>\n",
       "      <th>8</th>\n",
       "      <td>1050.229462</td>\n",
       "    </tr>\n",
       "    <tr>\n",
       "      <th>9</th>\n",
       "      <td>667.943343</td>\n",
       "    </tr>\n",
       "    <tr>\n",
       "      <th>10</th>\n",
       "      <td>545.764873</td>\n",
       "    </tr>\n",
       "    <tr>\n",
       "      <th>11</th>\n",
       "      <td>621.277620</td>\n",
       "    </tr>\n",
       "    <tr>\n",
       "      <th>12</th>\n",
       "      <td>723.218130</td>\n",
       "    </tr>\n",
       "    <tr>\n",
       "      <th>13</th>\n",
       "      <td>758.172805</td>\n",
       "    </tr>\n",
       "    <tr>\n",
       "      <th>14</th>\n",
       "      <td>784.620397</td>\n",
       "    </tr>\n",
       "    <tr>\n",
       "      <th>15</th>\n",
       "      <td>857.373938</td>\n",
       "    </tr>\n",
       "    <tr>\n",
       "      <th>16</th>\n",
       "      <td>962.257790</td>\n",
       "    </tr>\n",
       "    <tr>\n",
       "      <th>17</th>\n",
       "      <td>1177.212465</td>\n",
       "    </tr>\n",
       "    <tr>\n",
       "      <th>18</th>\n",
       "      <td>1554.016997</td>\n",
       "    </tr>\n",
       "    <tr>\n",
       "      <th>19</th>\n",
       "      <td>1235.776204</td>\n",
       "    </tr>\n",
       "    <tr>\n",
       "      <th>20</th>\n",
       "      <td>1105.303116</td>\n",
       "    </tr>\n",
       "    <tr>\n",
       "      <th>21</th>\n",
       "      <td>1066.512748</td>\n",
       "    </tr>\n",
       "    <tr>\n",
       "      <th>22</th>\n",
       "      <td>954.167139</td>\n",
       "    </tr>\n",
       "    <tr>\n",
       "      <th>23</th>\n",
       "      <td>693.940510</td>\n",
       "    </tr>\n",
       "  </tbody>\n",
       "</table>\n",
       "</div>"
      ],
      "text/plain": [
       "      Rented_bike_count\n",
       "Hour                   \n",
       "0            561.457386\n",
       "1            441.923295\n",
       "2            312.769886\n",
       "3            210.840909\n",
       "4            137.488636\n",
       "5            144.218750\n",
       "6            298.184659\n",
       "7            626.606232\n",
       "8           1050.229462\n",
       "9            667.943343\n",
       "10           545.764873\n",
       "11           621.277620\n",
       "12           723.218130\n",
       "13           758.172805\n",
       "14           784.620397\n",
       "15           857.373938\n",
       "16           962.257790\n",
       "17          1177.212465\n",
       "18          1554.016997\n",
       "19          1235.776204\n",
       "20          1105.303116\n",
       "21          1066.512748\n",
       "22           954.167139\n",
       "23           693.940510"
      ]
     },
     "execution_count": 125,
     "metadata": {},
     "output_type": "execute_result"
    }
   ],
   "source": [
    "data.groupby(\"Hour\").mean()[\"Rented_bike_count\"].to_frame() #Moyenne de vélos loués par heure."
   ]
  },
  {
   "cell_type": "markdown",
   "id": "916439b6",
   "metadata": {},
   "source": [
    "# DATA VIZUALISATIONS"
   ]
  },
  {
   "cell_type": "markdown",
   "id": "4b46fc01",
   "metadata": {},
   "source": [
    "### Nombre de vélos loués selon la saison  "
   ]
  },
  {
   "cell_type": "code",
   "execution_count": 126,
   "id": "80b47601",
   "metadata": {},
   "outputs": [
    {
     "data": {
      "image/png": "[encoded data removed]",
      "text/plain": [
       "<Figure size 360x360 with 1 Axes>"
      ]
     },
     "metadata": {},
     "output_type": "display_data"
    }
   ],
   "source": [
    "#Nombre de vélos empruntés selon la saison \n",
    "sns.catplot(x=\"Seasons\",y=\"Rented_bike_count\",data=data)\n",
    "fontsize=18\n",
    "plt.xticks(rotation=55,fontsize = 13)\n",
    "plt.yticks(fontsize=13)\n",
    "plt.title(\"Nombre de vélos empruntés selon la saison\",fontweight=\"bold\",fontdict={'fontsize': fontsize});"
   ]
  },
  {
   "cell_type": "markdown",
   "id": "8bdc1c8c",
   "metadata": {},
   "source": [
    "## Proportions de vélos loués selon la période de vacances/ période de travail "
   ]
  },
  {
   "cell_type": "code",
   "execution_count": 127,
   "id": "52c5ddd3",
   "metadata": {},
   "outputs": [],
   "source": [
    "data_holiday = data.groupby(\"Holiday\").sum()[\"Rented_bike_count\"].reset_index()"
   ]
  },
  {
   "cell_type": "code",
   "execution_count": 128,
   "id": "e0c862a9",
   "metadata": {},
   "outputs": [],
   "source": [
    "data_holiday[\"Prop\"]=data_holiday[\"Rented_bike_count\"]/data_holiday[\"Rented_bike_count\"].sum()"
   ]
  },
  {
   "cell_type": "code",
   "execution_count": 14,
   "id": "8361cb82",
   "metadata": {},
   "outputs": [
    {
     "name": "stderr",
     "output_type": "stream",
     "text": [
      "C:\\Users\\hhp\\anaconda3\\lib\\site-packages\\plotly\\offline\\offline.py:562: UserWarning:\n",
      "\n",
      "Your filename `simple-pie-subplot` didn't end with .html. Adding .html to the end of your file.\n",
      "\n"
     ]
    },
    {
     "data": {
      "text/plain": [
       "'simple-pie-subplot.html'"
      ]
     },
     "execution_count": 14,
     "metadata": {},
     "output_type": "execute_result"
    }
   ],
   "source": [
    "#functionning_day_or_not = data[\"Functioning Day\"].value_counts()\n",
    "\n",
    "trace1 = go.Pie(\n",
    "     values= data_holiday[\"Prop\"],\n",
    "     labels=data_holiday[\"Holiday\"],\n",
    "     hoverinfo=\"label+percent+name\",\n",
    ")\n",
    "#trace2 = go.Pie(\n",
    "#     values= functionning_day_or_not.values,\n",
    " #    labels= [\"Open days\",\"Closed days\"],\n",
    "  #   hoverinfo=\"label+percent+name\",\n",
    "#)\n",
    "layout = go.Layout(title=\"Pourentage de vélos loués selon si c'est les vacances ou non/ jour de travail ou non \",)\n",
    "dt = [trace1]\n",
    "fig = go.Figure(data=dt, layout=layout)\n",
    "py.plot(fig, filename='simple-pie-subplot')"
   ]
  },
  {
   "cell_type": "markdown",
   "id": "53d1e72d",
   "metadata": {},
   "source": [
    "#### Récupération du mois de l'année et du jour de la location pour exploitation "
   ]
  },
  {
   "cell_type": "code",
   "execution_count": 129,
   "id": "8293487e",
   "metadata": {},
   "outputs": [],
   "source": [
    "import datetime as dt\n",
    "data[\"Date\"]=pd.to_datetime(data[\"Date\"]) #Convert string to datetime\n",
    "data[\"Year\"] = data.Date.dt.year\n",
    "data[\"Month\"] = data.Date.dt.month\n",
    "data[\"Day\"] = data.Date.dt.day"
   ]
  },
  {
   "cell_type": "markdown",
   "id": "b31ce429",
   "metadata": {},
   "source": [
    "### Nombre de vélos loués selon le mois de l'année"
   ]
  },
  {
   "cell_type": "code",
   "execution_count": 130,
   "id": "d04391a7",
   "metadata": {
    "scrolled": true
   },
   "outputs": [
    {
     "data": {
      "image/png": "[encoded data removed]",
      "text/plain": [
       "<Figure size 1440x360 with 1 Axes>"
      ]
     },
     "metadata": {},
     "output_type": "display_data"
    }
   ],
   "source": [
    "\n",
    "rental_by_month= data.groupby(\"Month\").sum()[\"Rented_bike_count\"].reset_index()\n",
    "sns.set(rc={'figure.figsize':(20,5)})\n",
    "sns.lineplot(data=rental_by_month, x=\"Month\", y=\"Rented_bike_count\");\n",
    "plt.title(\"Nombre de vélos loués par mois\", fontsize=23, fontweight=\"bold\");\n",
    "plt.xlabel('Mois', fontsize=16);\n",
    "plt.ylabel('Nombre de vélos loués', fontsize=16);"
   ]
  },
  {
   "cell_type": "code",
   "execution_count": 131,
   "id": "f4c2dd6c",
   "metadata": {},
   "outputs": [
    {
     "data": {
      "text/plain": [
       "Hour\n",
       "0      561.457386\n",
       "1      441.923295\n",
       "2      312.769886\n",
       "3      210.840909\n",
       "4      137.488636\n",
       "5      144.218750\n",
       "6      298.184659\n",
       "7      626.606232\n",
       "8     1050.229462\n",
       "9      667.943343\n",
       "10     545.764873\n",
       "11     621.277620\n",
       "12     723.218130\n",
       "13     758.172805\n",
       "14     784.620397\n",
       "15     857.373938\n",
       "16     962.257790\n",
       "17    1177.212465\n",
       "18    1554.016997\n",
       "19    1235.776204\n",
       "20    1105.303116\n",
       "21    1066.512748\n",
       "22     954.167139\n",
       "23     693.940510\n",
       "Name: Rented_bike_count, dtype: float64"
      ]
     },
     "execution_count": 131,
     "metadata": {},
     "output_type": "execute_result"
    }
   ],
   "source": [
    "data_h = data.groupby(\"Hour\").mean()[\"Rented_bike_count\"]\n",
    "data_h"
   ]
  },
  {
   "cell_type": "code",
   "execution_count": 132,
   "id": "923f1338",
   "metadata": {},
   "outputs": [
    {
     "data": {
      "text/plain": [
       "Text(0.5, 1.0, 'Proportion de vélo loué par heure')"
      ]
     },
     "execution_count": 132,
     "metadata": {},
     "output_type": "execute_result"
    },
    {
     "data": {
      "image/png": "[encoded data removed]",
      "text/plain": [
       "<Figure size 720x720 with 1 Axes>"
      ]
     },
     "metadata": {},
     "output_type": "display_data"
    }
   ],
   "source": [
    "#data.groupby(\"Hour\").mean()[\"Rented_bike_count\"].plot(kind='pie', y=\"Rented_bike_count\",legend=False,title=\"popularité moyenne par langues\",autopct='%1.0f%%')\n",
    "\n",
    "fig = plt.figure(figsize=[10, 10])\n",
    "ax = fig.add_subplot(111)\n",
    "\n",
    "edge= ax.pie(data_h, labels=data_h.index,labeldistance=1.2, autopct='%.0f%%',pctdistance=1.1,startangle=90)\n",
    "\n",
    "for a in edge[0]:\n",
    "    a.set_edgecolor('white')\n",
    "\n",
    "plt.title(\"Proportion de vélo loué par heure\", fontsize=23, fontweight=\"bold\")"
   ]
  },
  {
   "cell_type": "code",
   "execution_count": 133,
   "id": "7f2b46e6",
   "metadata": {},
   "outputs": [
    {
     "data": {
      "text/html": [
       "<div>\n",
       "<style scoped>\n",
       "    .dataframe tbody tr th:only-of-type {\n",
       "        vertical-align: middle;\n",
       "    }\n",
       "\n",
       "    .dataframe tbody tr th {\n",
       "        vertical-align: top;\n",
       "    }\n",
       "\n",
       "    .dataframe thead th {\n",
       "        text-align: right;\n",
       "    }\n",
       "</style>\n",
       "<table border=\"1\" class=\"dataframe\">\n",
       "  <thead>\n",
       "    <tr style=\"text-align: right;\">\n",
       "      <th></th>\n",
       "      <th>Rented_bike_count</th>\n",
       "    </tr>\n",
       "    <tr>\n",
       "      <th>Day</th>\n",
       "      <th></th>\n",
       "    </tr>\n",
       "  </thead>\n",
       "  <tbody>\n",
       "    <tr>\n",
       "      <th>1</th>\n",
       "      <td>222.437500</td>\n",
       "    </tr>\n",
       "    <tr>\n",
       "      <th>2</th>\n",
       "      <td>186.437500</td>\n",
       "    </tr>\n",
       "    <tr>\n",
       "      <th>3</th>\n",
       "      <td>409.072917</td>\n",
       "    </tr>\n",
       "    <tr>\n",
       "      <th>4</th>\n",
       "      <td>645.571970</td>\n",
       "    </tr>\n",
       "    <tr>\n",
       "      <th>5</th>\n",
       "      <td>890.231061</td>\n",
       "    </tr>\n",
       "    <tr>\n",
       "      <th>6</th>\n",
       "      <td>1289.218750</td>\n",
       "    </tr>\n",
       "    <tr>\n",
       "      <th>7</th>\n",
       "      <td>947.756944</td>\n",
       "    </tr>\n",
       "    <tr>\n",
       "      <th>8</th>\n",
       "      <td>860.479167</td>\n",
       "    </tr>\n",
       "    <tr>\n",
       "      <th>9</th>\n",
       "      <td>1163.215278</td>\n",
       "    </tr>\n",
       "    <tr>\n",
       "      <th>10</th>\n",
       "      <td>1009.406699</td>\n",
       "    </tr>\n",
       "    <tr>\n",
       "      <th>11</th>\n",
       "      <td>749.277778</td>\n",
       "    </tr>\n",
       "    <tr>\n",
       "      <th>12</th>\n",
       "      <td>304.166667</td>\n",
       "    </tr>\n",
       "    <tr>\n",
       "      <th>13</th>\n",
       "      <td>862.826389</td>\n",
       "    </tr>\n",
       "    <tr>\n",
       "      <th>14</th>\n",
       "      <td>764.131944</td>\n",
       "    </tr>\n",
       "    <tr>\n",
       "      <th>15</th>\n",
       "      <td>727.618056</td>\n",
       "    </tr>\n",
       "    <tr>\n",
       "      <th>16</th>\n",
       "      <td>719.190972</td>\n",
       "    </tr>\n",
       "    <tr>\n",
       "      <th>17</th>\n",
       "      <td>751.920139</td>\n",
       "    </tr>\n",
       "    <tr>\n",
       "      <th>18</th>\n",
       "      <td>695.412879</td>\n",
       "    </tr>\n",
       "    <tr>\n",
       "      <th>19</th>\n",
       "      <td>800.041667</td>\n",
       "    </tr>\n",
       "    <tr>\n",
       "      <th>20</th>\n",
       "      <td>788.072917</td>\n",
       "    </tr>\n",
       "    <tr>\n",
       "      <th>21</th>\n",
       "      <td>764.454861</td>\n",
       "    </tr>\n",
       "    <tr>\n",
       "      <th>22</th>\n",
       "      <td>700.454861</td>\n",
       "    </tr>\n",
       "    <tr>\n",
       "      <th>23</th>\n",
       "      <td>662.479167</td>\n",
       "    </tr>\n",
       "    <tr>\n",
       "      <th>24</th>\n",
       "      <td>646.413194</td>\n",
       "    </tr>\n",
       "    <tr>\n",
       "      <th>25</th>\n",
       "      <td>790.368056</td>\n",
       "    </tr>\n",
       "    <tr>\n",
       "      <th>26</th>\n",
       "      <td>668.743056</td>\n",
       "    </tr>\n",
       "    <tr>\n",
       "      <th>27</th>\n",
       "      <td>761.812500</td>\n",
       "    </tr>\n",
       "    <tr>\n",
       "      <th>28</th>\n",
       "      <td>614.503788</td>\n",
       "    </tr>\n",
       "    <tr>\n",
       "      <th>29</th>\n",
       "      <td>773.950758</td>\n",
       "    </tr>\n",
       "    <tr>\n",
       "      <th>30</th>\n",
       "      <td>769.891667</td>\n",
       "    </tr>\n",
       "    <tr>\n",
       "      <th>31</th>\n",
       "      <td>776.428571</td>\n",
       "    </tr>\n",
       "  </tbody>\n",
       "</table>\n",
       "</div>"
      ],
      "text/plain": [
       "     Rented_bike_count\n",
       "Day                   \n",
       "1           222.437500\n",
       "2           186.437500\n",
       "3           409.072917\n",
       "4           645.571970\n",
       "5           890.231061\n",
       "6          1289.218750\n",
       "7           947.756944\n",
       "8           860.479167\n",
       "9          1163.215278\n",
       "10         1009.406699\n",
       "11          749.277778\n",
       "12          304.166667\n",
       "13          862.826389\n",
       "14          764.131944\n",
       "15          727.618056\n",
       "16          719.190972\n",
       "17          751.920139\n",
       "18          695.412879\n",
       "19          800.041667\n",
       "20          788.072917\n",
       "21          764.454861\n",
       "22          700.454861\n",
       "23          662.479167\n",
       "24          646.413194\n",
       "25          790.368056\n",
       "26          668.743056\n",
       "27          761.812500\n",
       "28          614.503788\n",
       "29          773.950758\n",
       "30          769.891667\n",
       "31          776.428571"
      ]
     },
     "execution_count": 133,
     "metadata": {},
     "output_type": "execute_result"
    }
   ],
   "source": [
    "data_j = data.groupby(\"Day\").mean()[\"Rented_bike_count\"].to_frame()\n",
    "data_j"
   ]
  },
  {
   "cell_type": "code",
   "execution_count": 134,
   "id": "9fb6c234",
   "metadata": {},
   "outputs": [
    {
     "data": {
      "application/vnd.plotly.v1+json": {
       "config": {
        "plotlyServerURL": "https://plot.ly"
       },
       "data": [
        {
         "hovertemplate": "Jour=%{x}<br>Nombre de vélo loué=%{y}<extra></extra>",
         "legendgroup": "",
         "line": {
          "color": "#636efa",
          "dash": "solid"
         },
         "marker": {
          "symbol": "circle"
         },
         "mode": "lines",
         "name": "",
         "orientation": "v",
         "showlegend": false,
         "type": "scatter",
         "x": [
          1,
          2,
          3,
          4,
          5,
          6,
          7,
          8,
          9,
          10,
          11,
          12,
          13,
          14,
          15,
          16,
          17,
          18,
          19,
          20,
          21,
          22,
          23,
          24,
          25,
          26,
          27,
          28,
          29,
          30,
          31
         ],
         "xaxis": "x",
         "y": [
          222.4375,
          186.4375,
          409.0729166666667,
          645.5719696969697,
          890.2310606060606,
          1289.21875,
          947.7569444444445,
          860.4791666666666,
          1163.2152777777778,
          1009.4066985645933,
          749.2777777777778,
          304.1666666666667,
          862.8263888888889,
          764.1319444444445,
          727.6180555555555,
          719.1909722222222,
          751.9201388888889,
          695.4128787878788,
          800.0416666666666,
          788.0729166666666,
          764.4548611111111,
          700.4548611111111,
          662.4791666666666,
          646.4131944444445,
          790.3680555555555,
          668.7430555555555,
          761.8125,
          614.5037878787879,
          773.9507575757576,
          769.8916666666667,
          776.4285714285714
         ],
         "yaxis": "y"
        }
       ],
       "layout": {
        "legend": {
         "tracegroupgap": 0
        },
        "template": {
         "data": {
          "bar": [
           {
            "error_x": {
             "color": "#2a3f5f"
            },
            "error_y": {
             "color": "#2a3f5f"
            },
            "marker": {
             "line": {
              "color": "#E5ECF6",
              "width": 0.5
             },
             "pattern": {
              "fillmode": "overlay",
              "size": 10,
              "solidity": 0.2
             }
            },
            "type": "bar"
           }
          ],
          "barpolar": [
           {
            "marker": {
             "line": {
              "color": "#E5ECF6",
              "width": 0.5
             },
             "pattern": {
              "fillmode": "overlay",
              "size": 10,
              "solidity": 0.2
             }
            },
            "type": "barpolar"
           }
          ],
          "carpet": [
           {
            "aaxis": {
             "endlinecolor": "#2a3f5f",
             "gridcolor": "white",
             "linecolor": "white",
             "minorgridcolor": "white",
             "startlinecolor": "#2a3f5f"
            },
            "baxis": {
             "endlinecolor": "#2a3f5f",
             "gridcolor": "white",
             "linecolor": "white",
             "minorgridcolor": "white",
             "startlinecolor": "#2a3f5f"
            },
            "type": "carpet"
           }
          ],
          "choropleth": [
           {
            "colorbar": {
             "outlinewidth": 0,
             "ticks": ""
            },
            "type": "choropleth"
           }
          ],
          "contour": [
           {
            "colorbar": {
             "outlinewidth": 0,
             "ticks": ""
            },
            "colorscale": [
             [
              0,
              "#0d0887"
             ],
             [
              0.1111111111111111,
              "#46039f"
             ],
             [
              0.2222222222222222,
              "#7201a8"
             ],
             [
              0.3333333333333333,
              "#9c179e"
             ],
             [
              0.4444444444444444,
              "#bd3786"
             ],
             [
              0.5555555555555556,
              "#d8576b"
             ],
             [
              0.6666666666666666,
              "#ed7953"
             ],
             [
              0.7777777777777778,
              "#fb9f3a"
             ],
             [
              0.8888888888888888,
              "#fdca26"
             ],
             [
              1,
              "#f0f921"
             ]
            ],
            "type": "contour"
           }
          ],
          "contourcarpet": [
           {
            "colorbar": {
             "outlinewidth": 0,
             "ticks": ""
            },
            "type": "contourcarpet"
           }
          ],
          "heatmap": [
           {
            "colorbar": {
             "outlinewidth": 0,
             "ticks": ""
            },
            "colorscale": [
             [
              0,
              "#0d0887"
             ],
             [
              0.1111111111111111,
              "#46039f"
             ],
             [
              0.2222222222222222,
              "#7201a8"
             ],
             [
              0.3333333333333333,
              "#9c179e"
             ],
             [
              0.4444444444444444,
              "#bd3786"
             ],
             [
              0.5555555555555556,
              "#d8576b"
             ],
             [
              0.6666666666666666,
              "#ed7953"
             ],
             [
              0.7777777777777778,
              "#fb9f3a"
             ],
             [
              0.8888888888888888,
              "#fdca26"
             ],
             [
              1,
              "#f0f921"
             ]
            ],
            "type": "heatmap"
           }
          ],
          "heatmapgl": [
           {
            "colorbar": {
             "outlinewidth": 0,
             "ticks": ""
            },
            "colorscale": [
             [
              0,
              "#0d0887"
             ],
             [
              0.1111111111111111,
              "#46039f"
             ],
             [
              0.2222222222222222,
              "#7201a8"
             ],
             [
              0.3333333333333333,
              "#9c179e"
             ],
             [
              0.4444444444444444,
              "#bd3786"
             ],
             [
              0.5555555555555556,
              "#d8576b"
             ],
             [
              0.6666666666666666,
              "#ed7953"
             ],
             [
              0.7777777777777778,
              "#fb9f3a"
             ],
             [
              0.8888888888888888,
              "#fdca26"
             ],
             [
              1,
              "#f0f921"
             ]
            ],
            "type": "heatmapgl"
           }
          ],
          "histogram": [
           {
            "marker": {
             "pattern": {
              "fillmode": "overlay",
              "size": 10,
              "solidity": 0.2
             }
            },
            "type": "histogram"
           }
          ],
          "histogram2d": [
           {
            "colorbar": {
             "outlinewidth": 0,
             "ticks": ""
            },
            "colorscale": [
             [
              0,
              "#0d0887"
             ],
             [
              0.1111111111111111,
              "#46039f"
             ],
             [
              0.2222222222222222,
              "#7201a8"
             ],
             [
              0.3333333333333333,
              "#9c179e"
             ],
             [
              0.4444444444444444,
              "#bd3786"
             ],
             [
              0.5555555555555556,
              "#d8576b"
             ],
             [
              0.6666666666666666,
              "#ed7953"
             ],
             [
              0.7777777777777778,
              "#fb9f3a"
             ],
             [
              0.8888888888888888,
              "#fdca26"
             ],
             [
              1,
              "#f0f921"
             ]
            ],
            "type": "histogram2d"
           }
          ],
          "histogram2dcontour": [
           {
            "colorbar": {
             "outlinewidth": 0,
             "ticks": ""
            },
            "colorscale": [
             [
              0,
              "#0d0887"
             ],
             [
              0.1111111111111111,
              "#46039f"
             ],
             [
              0.2222222222222222,
              "#7201a8"
             ],
             [
              0.3333333333333333,
              "#9c179e"
             ],
             [
              0.4444444444444444,
              "#bd3786"
             ],
             [
              0.5555555555555556,
              "#d8576b"
             ],
             [
              0.6666666666666666,
              "#ed7953"
             ],
             [
              0.7777777777777778,
              "#fb9f3a"
             ],
             [
              0.8888888888888888,
              "#fdca26"
             ],
             [
              1,
              "#f0f921"
             ]
            ],
            "type": "histogram2dcontour"
           }
          ],
          "mesh3d": [
           {
            "colorbar": {
             "outlinewidth": 0,
             "ticks": ""
            },
            "type": "mesh3d"
           }
          ],
          "parcoords": [
           {
            "line": {
             "colorbar": {
              "outlinewidth": 0,
              "ticks": ""
             }
            },
            "type": "parcoords"
           }
          ],
          "pie": [
           {
            "automargin": true,
            "type": "pie"
           }
          ],
          "scatter": [
           {
            "fillpattern": {
             "fillmode": "overlay",
             "size": 10,
             "solidity": 0.2
            },
            "type": "scatter"
           }
          ],
          "scatter3d": [
           {
            "line": {
             "colorbar": {
              "outlinewidth": 0,
              "ticks": ""
             }
            },
            "marker": {
             "colorbar": {
              "outlinewidth": 0,
              "ticks": ""
             }
            },
            "type": "scatter3d"
           }
          ],
          "scattercarpet": [
           {
            "marker": {
             "colorbar": {
              "outlinewidth": 0,
              "ticks": ""
             }
            },
            "type": "scattercarpet"
           }
          ],
          "scattergeo": [
           {
            "marker": {
             "colorbar": {
              "outlinewidth": 0,
              "ticks": ""
             }
            },
            "type": "scattergeo"
           }
          ],
          "scattergl": [
           {
            "marker": {
             "colorbar": {
              "outlinewidth": 0,
              "ticks": ""
             }
            },
            "type": "scattergl"
           }
          ],
          "scattermapbox": [
           {
            "marker": {
             "colorbar": {
              "outlinewidth": 0,
              "ticks": ""
             }
            },
            "type": "scattermapbox"
           }
          ],
          "scatterpolar": [
           {
            "marker": {
             "colorbar": {
              "outlinewidth": 0,
              "ticks": ""
             }
            },
            "type": "scatterpolar"
           }
          ],
          "scatterpolargl": [
           {
            "marker": {
             "colorbar": {
              "outlinewidth": 0,
              "ticks": ""
             }
            },
            "type": "scatterpolargl"
           }
          ],
          "scatterternary": [
           {
            "marker": {
             "colorbar": {
              "outlinewidth": 0,
              "ticks": ""
             }
            },
            "type": "scatterternary"
           }
          ],
          "surface": [
           {
            "colorbar": {
             "outlinewidth": 0,
             "ticks": ""
            },
            "colorscale": [
             [
              0,
              "#0d0887"
             ],
             [
              0.1111111111111111,
              "#46039f"
             ],
             [
              0.2222222222222222,
              "#7201a8"
             ],
             [
              0.3333333333333333,
              "#9c179e"
             ],
             [
              0.4444444444444444,
              "#bd3786"
             ],
             [
              0.5555555555555556,
              "#d8576b"
             ],
             [
              0.6666666666666666,
              "#ed7953"
             ],
             [
              0.7777777777777778,
              "#fb9f3a"
             ],
             [
              0.8888888888888888,
              "#fdca26"
             ],
             [
              1,
              "#f0f921"
             ]
            ],
            "type": "surface"
           }
          ],
          "table": [
           {
            "cells": {
             "fill": {
              "color": "#EBF0F8"
             },
             "line": {
              "color": "white"
             }
            },
            "header": {
             "fill": {
              "color": "#C8D4E3"
             },
             "line": {
              "color": "white"
             }
            },
            "type": "table"
           }
          ]
         },
         "layout": {
          "annotationdefaults": {
           "arrowcolor": "#2a3f5f",
           "arrowhead": 0,
           "arrowwidth": 1
          },
          "autotypenumbers": "strict",
          "coloraxis": {
           "colorbar": {
            "outlinewidth": 0,
            "ticks": ""
           }
          },
          "colorscale": {
           "diverging": [
            [
             0,
             "#8e0152"
            ],
            [
             0.1,
             "#c51b7d"
            ],
            [
             0.2,
             "#de77ae"
            ],
            [
             0.3,
             "#f1b6da"
            ],
            [
             0.4,
             "#fde0ef"
            ],
            [
             0.5,
             "#f7f7f7"
            ],
            [
             0.6,
             "#e6f5d0"
            ],
            [
             0.7,
             "#b8e186"
            ],
            [
             0.8,
             "#7fbc41"
            ],
            [
             0.9,
             "#4d9221"
            ],
            [
             1,
             "#276419"
            ]
           ],
           "sequential": [
            [
             0,
             "#0d0887"
            ],
            [
             0.1111111111111111,
             "#46039f"
            ],
            [
             0.2222222222222222,
             "#7201a8"
            ],
            [
             0.3333333333333333,
             "#9c179e"
            ],
            [
             0.4444444444444444,
             "#bd3786"
            ],
            [
             0.5555555555555556,
             "#d8576b"
            ],
            [
             0.6666666666666666,
             "#ed7953"
            ],
            [
             0.7777777777777778,
             "#fb9f3a"
            ],
            [
             0.8888888888888888,
             "#fdca26"
            ],
            [
             1,
             "#f0f921"
            ]
           ],
           "sequentialminus": [
            [
             0,
             "#0d0887"
            ],
            [
             0.1111111111111111,
             "#46039f"
            ],
            [
             0.2222222222222222,
             "#7201a8"
            ],
            [
             0.3333333333333333,
             "#9c179e"
            ],
            [
             0.4444444444444444,
             "#bd3786"
            ],
            [
             0.5555555555555556,
             "#d8576b"
            ],
            [
             0.6666666666666666,
             "#ed7953"
            ],
            [
             0.7777777777777778,
             "#fb9f3a"
            ],
            [
             0.8888888888888888,
             "#fdca26"
            ],
            [
             1,
             "#f0f921"
            ]
           ]
          },
          "colorway": [
           "#636efa",
           "#EF553B",
           "#00cc96",
           "#ab63fa",
           "#FFA15A",
           "#19d3f3",
           "#FF6692",
           "#B6E880",
           "#FF97FF",
           "#FECB52"
          ],
          "font": {
           "color": "#2a3f5f"
          },
          "geo": {
           "bgcolor": "white",
           "lakecolor": "white",
           "landcolor": "#E5ECF6",
           "showlakes": true,
           "showland": true,
           "subunitcolor": "white"
          },
          "hoverlabel": {
           "align": "left"
          },
          "hovermode": "closest",
          "mapbox": {
           "style": "light"
          },
          "paper_bgcolor": "white",
          "plot_bgcolor": "#E5ECF6",
          "polar": {
           "angularaxis": {
            "gridcolor": "white",
            "linecolor": "white",
            "ticks": ""
           },
           "bgcolor": "#E5ECF6",
           "radialaxis": {
            "gridcolor": "white",
            "linecolor": "white",
            "ticks": ""
           }
          },
          "scene": {
           "xaxis": {
            "backgroundcolor": "#E5ECF6",
            "gridcolor": "white",
            "gridwidth": 2,
            "linecolor": "white",
            "showbackground": true,
            "ticks": "",
            "zerolinecolor": "white"
           },
           "yaxis": {
            "backgroundcolor": "#E5ECF6",
            "gridcolor": "white",
            "gridwidth": 2,
            "linecolor": "white",
            "showbackground": true,
            "ticks": "",
            "zerolinecolor": "white"
           },
           "zaxis": {
            "backgroundcolor": "#E5ECF6",
            "gridcolor": "white",
            "gridwidth": 2,
            "linecolor": "white",
            "showbackground": true,
            "ticks": "",
            "zerolinecolor": "white"
           }
          },
          "shapedefaults": {
           "line": {
            "color": "#2a3f5f"
           }
          },
          "ternary": {
           "aaxis": {
            "gridcolor": "white",
            "linecolor": "white",
            "ticks": ""
           },
           "baxis": {
            "gridcolor": "white",
            "linecolor": "white",
            "ticks": ""
           },
           "bgcolor": "#E5ECF6",
           "caxis": {
            "gridcolor": "white",
            "linecolor": "white",
            "ticks": ""
           }
          },
          "title": {
           "x": 0.05
          },
          "xaxis": {
           "automargin": true,
           "gridcolor": "white",
           "linecolor": "white",
           "ticks": "",
           "title": {
            "standoff": 15
           },
           "zerolinecolor": "white",
           "zerolinewidth": 2
          },
          "yaxis": {
           "automargin": true,
           "gridcolor": "white",
           "linecolor": "white",
           "ticks": "",
           "title": {
            "standoff": 15
           },
           "zerolinecolor": "white",
           "zerolinewidth": 2
          }
         }
        },
        "title": {
         "text": "Moyenne de vélos loués en fonction du jour"
        },
        "xaxis": {
         "anchor": "y",
         "domain": [
          0,
          1
         ],
         "title": {
          "text": "Jour"
         }
        },
        "yaxis": {
         "anchor": "x",
         "domain": [
          0,
          1
         ],
         "title": {
          "text": "Nombre de vélo loué"
         }
        }
       }
      },
      "text/html": [
       "<div>                            <div id=\"d2a8f21e-3007-4d95-8878-5db20d56edcf\" class=\"plotly-graph-div\" style=\"height:525px; width:100%;\"></div>            <script type=\"text/javascript\">                require([\"plotly\"], function(Plotly) {                    window.PLOTLYENV=window.PLOTLYENV || {};                                    if (document.getElementById(\"d2a8f21e-3007-4d95-8878-5db20d56edcf\")) {                    Plotly.newPlot(                        \"d2a8f21e-3007-4d95-8878-5db20d56edcf\",                        [{\"hovertemplate\":\"Jour=%{x}<br>Nombre de v\\u00e9lo lou\\u00e9=%{y}<extra></extra>\",\"legendgroup\":\"\",\"line\":{\"color\":\"#636efa\",\"dash\":\"solid\"},\"marker\":{\"symbol\":\"circle\"},\"mode\":\"lines\",\"name\":\"\",\"orientation\":\"v\",\"showlegend\":false,\"x\":[1,2,3,4,5,6,7,8,9,10,11,12,13,14,15,16,17,18,19,20,21,22,23,24,25,26,27,28,29,30,31],\"xaxis\":\"x\",\"y\":[222.4375,186.4375,409.0729166666667,645.5719696969697,890.2310606060606,1289.21875,947.7569444444445,860.4791666666666,1163.2152777777778,1009.4066985645933,749.2777777777778,304.1666666666667,862.8263888888889,764.1319444444445,727.6180555555555,719.1909722222222,751.9201388888889,695.4128787878788,800.0416666666666,788.0729166666666,764.4548611111111,700.4548611111111,662.4791666666666,646.4131944444445,790.3680555555555,668.7430555555555,761.8125,614.5037878787879,773.9507575757576,769.8916666666667,776.4285714285714],\"yaxis\":\"y\",\"type\":\"scatter\"}],                        {\"template\":{\"data\":{\"histogram2dcontour\":[{\"type\":\"histogram2dcontour\",\"colorbar\":{\"outlinewidth\":0,\"ticks\":\"\"},\"colorscale\":[[0.0,\"#0d0887\"],[0.1111111111111111,\"#46039f\"],[0.2222222222222222,\"#7201a8\"],[0.3333333333333333,\"#9c179e\"],[0.4444444444444444,\"#bd3786\"],[0.5555555555555556,\"#d8576b\"],[0.6666666666666666,\"#ed7953\"],[0.7777777777777778,\"#fb9f3a\"],[0.8888888888888888,\"#fdca26\"],[1.0,\"#f0f921\"]]}],\"choropleth\":[{\"type\":\"choropleth\",\"colorbar\":{\"outlinewidth\":0,\"ticks\":\"\"}}],\"histogram2d\":[{\"type\":\"histogram2d\",\"colorbar\":{\"outlinewidth\":0,\"ticks\":\"\"},\"colorscale\":[[0.0,\"#0d0887\"],[0.1111111111111111,\"#46039f\"],[0.2222222222222222,\"#7201a8\"],[0.3333333333333333,\"#9c179e\"],[0.4444444444444444,\"#bd3786\"],[0.5555555555555556,\"#d8576b\"],[0.6666666666666666,\"#ed7953\"],[0.7777777777777778,\"#fb9f3a\"],[0.8888888888888888,\"#fdca26\"],[1.0,\"#f0f921\"]]}],\"heatmap\":[{\"type\":\"heatmap\",\"colorbar\":{\"outlinewidth\":0,\"ticks\":\"\"},\"colorscale\":[[0.0,\"#0d0887\"],[0.1111111111111111,\"#46039f\"],[0.2222222222222222,\"#7201a8\"],[0.3333333333333333,\"#9c179e\"],[0.4444444444444444,\"#bd3786\"],[0.5555555555555556,\"#d8576b\"],[0.6666666666666666,\"#ed7953\"],[0.7777777777777778,\"#fb9f3a\"],[0.8888888888888888,\"#fdca26\"],[1.0,\"#f0f921\"]]}],\"heatmapgl\":[{\"type\":\"heatmapgl\",\"colorbar\":{\"outlinewidth\":0,\"ticks\":\"\"},\"colorscale\":[[0.0,\"#0d0887\"],[0.1111111111111111,\"#46039f\"],[0.2222222222222222,\"#7201a8\"],[0.3333333333333333,\"#9c179e\"],[0.4444444444444444,\"#bd3786\"],[0.5555555555555556,\"#d8576b\"],[0.6666666666666666,\"#ed7953\"],[0.7777777777777778,\"#fb9f3a\"],[0.8888888888888888,\"#fdca26\"],[1.0,\"#f0f921\"]]}],\"contourcarpet\":[{\"type\":\"contourcarpet\",\"colorbar\":{\"outlinewidth\":0,\"ticks\":\"\"}}],\"contour\":[{\"type\":\"contour\",\"colorbar\":{\"outlinewidth\":0,\"ticks\":\"\"},\"colorscale\":[[0.0,\"#0d0887\"],[0.1111111111111111,\"#46039f\"],[0.2222222222222222,\"#7201a8\"],[0.3333333333333333,\"#9c179e\"],[0.4444444444444444,\"#bd3786\"],[0.5555555555555556,\"#d8576b\"],[0.6666666666666666,\"#ed7953\"],[0.7777777777777778,\"#fb9f3a\"],[0.8888888888888888,\"#fdca26\"],[1.0,\"#f0f921\"]]}],\"surface\":[{\"type\":\"surface\",\"colorbar\":{\"outlinewidth\":0,\"ticks\":\"\"},\"colorscale\":[[0.0,\"#0d0887\"],[0.1111111111111111,\"#46039f\"],[0.2222222222222222,\"#7201a8\"],[0.3333333333333333,\"#9c179e\"],[0.4444444444444444,\"#bd3786\"],[0.5555555555555556,\"#d8576b\"],[0.6666666666666666,\"#ed7953\"],[0.7777777777777778,\"#fb9f3a\"],[0.8888888888888888,\"#fdca26\"],[1.0,\"#f0f921\"]]}],\"mesh3d\":[{\"type\":\"mesh3d\",\"colorbar\":{\"outlinewidth\":0,\"ticks\":\"\"}}],\"scatter\":[{\"fillpattern\":{\"fillmode\":\"overlay\",\"size\":10,\"solidity\":0.2},\"type\":\"scatter\"}],\"parcoords\":[{\"type\":\"parcoords\",\"line\":{\"colorbar\":{\"outlinewidth\":0,\"ticks\":\"\"}}}],\"scatterpolargl\":[{\"type\":\"scatterpolargl\",\"marker\":{\"colorbar\":{\"outlinewidth\":0,\"ticks\":\"\"}}}],\"bar\":[{\"error_x\":{\"color\":\"#2a3f5f\"},\"error_y\":{\"color\":\"#2a3f5f\"},\"marker\":{\"line\":{\"color\":\"#E5ECF6\",\"width\":0.5},\"pattern\":{\"fillmode\":\"overlay\",\"size\":10,\"solidity\":0.2}},\"type\":\"bar\"}],\"scattergeo\":[{\"type\":\"scattergeo\",\"marker\":{\"colorbar\":{\"outlinewidth\":0,\"ticks\":\"\"}}}],\"scatterpolar\":[{\"type\":\"scatterpolar\",\"marker\":{\"colorbar\":{\"outlinewidth\":0,\"ticks\":\"\"}}}],\"histogram\":[{\"marker\":{\"pattern\":{\"fillmode\":\"overlay\",\"size\":10,\"solidity\":0.2}},\"type\":\"histogram\"}],\"scattergl\":[{\"type\":\"scattergl\",\"marker\":{\"colorbar\":{\"outlinewidth\":0,\"ticks\":\"\"}}}],\"scatter3d\":[{\"type\":\"scatter3d\",\"line\":{\"colorbar\":{\"outlinewidth\":0,\"ticks\":\"\"}},\"marker\":{\"colorbar\":{\"outlinewidth\":0,\"ticks\":\"\"}}}],\"scattermapbox\":[{\"type\":\"scattermapbox\",\"marker\":{\"colorbar\":{\"outlinewidth\":0,\"ticks\":\"\"}}}],\"scatterternary\":[{\"type\":\"scatterternary\",\"marker\":{\"colorbar\":{\"outlinewidth\":0,\"ticks\":\"\"}}}],\"scattercarpet\":[{\"type\":\"scattercarpet\",\"marker\":{\"colorbar\":{\"outlinewidth\":0,\"ticks\":\"\"}}}],\"carpet\":[{\"aaxis\":{\"endlinecolor\":\"#2a3f5f\",\"gridcolor\":\"white\",\"linecolor\":\"white\",\"minorgridcolor\":\"white\",\"startlinecolor\":\"#2a3f5f\"},\"baxis\":{\"endlinecolor\":\"#2a3f5f\",\"gridcolor\":\"white\",\"linecolor\":\"white\",\"minorgridcolor\":\"white\",\"startlinecolor\":\"#2a3f5f\"},\"type\":\"carpet\"}],\"table\":[{\"cells\":{\"fill\":{\"color\":\"#EBF0F8\"},\"line\":{\"color\":\"white\"}},\"header\":{\"fill\":{\"color\":\"#C8D4E3\"},\"line\":{\"color\":\"white\"}},\"type\":\"table\"}],\"barpolar\":[{\"marker\":{\"line\":{\"color\":\"#E5ECF6\",\"width\":0.5},\"pattern\":{\"fillmode\":\"overlay\",\"size\":10,\"solidity\":0.2}},\"type\":\"barpolar\"}],\"pie\":[{\"automargin\":true,\"type\":\"pie\"}]},\"layout\":{\"autotypenumbers\":\"strict\",\"colorway\":[\"#636efa\",\"#EF553B\",\"#00cc96\",\"#ab63fa\",\"#FFA15A\",\"#19d3f3\",\"#FF6692\",\"#B6E880\",\"#FF97FF\",\"#FECB52\"],\"font\":{\"color\":\"#2a3f5f\"},\"hovermode\":\"closest\",\"hoverlabel\":{\"align\":\"left\"},\"paper_bgcolor\":\"white\",\"plot_bgcolor\":\"#E5ECF6\",\"polar\":{\"bgcolor\":\"#E5ECF6\",\"angularaxis\":{\"gridcolor\":\"white\",\"linecolor\":\"white\",\"ticks\":\"\"},\"radialaxis\":{\"gridcolor\":\"white\",\"linecolor\":\"white\",\"ticks\":\"\"}},\"ternary\":{\"bgcolor\":\"#E5ECF6\",\"aaxis\":{\"gridcolor\":\"white\",\"linecolor\":\"white\",\"ticks\":\"\"},\"baxis\":{\"gridcolor\":\"white\",\"linecolor\":\"white\",\"ticks\":\"\"},\"caxis\":{\"gridcolor\":\"white\",\"linecolor\":\"white\",\"ticks\":\"\"}},\"coloraxis\":{\"colorbar\":{\"outlinewidth\":0,\"ticks\":\"\"}},\"colorscale\":{\"sequential\":[[0.0,\"#0d0887\"],[0.1111111111111111,\"#46039f\"],[0.2222222222222222,\"#7201a8\"],[0.3333333333333333,\"#9c179e\"],[0.4444444444444444,\"#bd3786\"],[0.5555555555555556,\"#d8576b\"],[0.6666666666666666,\"#ed7953\"],[0.7777777777777778,\"#fb9f3a\"],[0.8888888888888888,\"#fdca26\"],[1.0,\"#f0f921\"]],\"sequentialminus\":[[0.0,\"#0d0887\"],[0.1111111111111111,\"#46039f\"],[0.2222222222222222,\"#7201a8\"],[0.3333333333333333,\"#9c179e\"],[0.4444444444444444,\"#bd3786\"],[0.5555555555555556,\"#d8576b\"],[0.6666666666666666,\"#ed7953\"],[0.7777777777777778,\"#fb9f3a\"],[0.8888888888888888,\"#fdca26\"],[1.0,\"#f0f921\"]],\"diverging\":[[0,\"#8e0152\"],[0.1,\"#c51b7d\"],[0.2,\"#de77ae\"],[0.3,\"#f1b6da\"],[0.4,\"#fde0ef\"],[0.5,\"#f7f7f7\"],[0.6,\"#e6f5d0\"],[0.7,\"#b8e186\"],[0.8,\"#7fbc41\"],[0.9,\"#4d9221\"],[1,\"#276419\"]]},\"xaxis\":{\"gridcolor\":\"white\",\"linecolor\":\"white\",\"ticks\":\"\",\"title\":{\"standoff\":15},\"zerolinecolor\":\"white\",\"automargin\":true,\"zerolinewidth\":2},\"yaxis\":{\"gridcolor\":\"white\",\"linecolor\":\"white\",\"ticks\":\"\",\"title\":{\"standoff\":15},\"zerolinecolor\":\"white\",\"automargin\":true,\"zerolinewidth\":2},\"scene\":{\"xaxis\":{\"backgroundcolor\":\"#E5ECF6\",\"gridcolor\":\"white\",\"linecolor\":\"white\",\"showbackground\":true,\"ticks\":\"\",\"zerolinecolor\":\"white\",\"gridwidth\":2},\"yaxis\":{\"backgroundcolor\":\"#E5ECF6\",\"gridcolor\":\"white\",\"linecolor\":\"white\",\"showbackground\":true,\"ticks\":\"\",\"zerolinecolor\":\"white\",\"gridwidth\":2},\"zaxis\":{\"backgroundcolor\":\"#E5ECF6\",\"gridcolor\":\"white\",\"linecolor\":\"white\",\"showbackground\":true,\"ticks\":\"\",\"zerolinecolor\":\"white\",\"gridwidth\":2}},\"shapedefaults\":{\"line\":{\"color\":\"#2a3f5f\"}},\"annotationdefaults\":{\"arrowcolor\":\"#2a3f5f\",\"arrowhead\":0,\"arrowwidth\":1},\"geo\":{\"bgcolor\":\"white\",\"landcolor\":\"#E5ECF6\",\"subunitcolor\":\"white\",\"showland\":true,\"showlakes\":true,\"lakecolor\":\"white\"},\"title\":{\"x\":0.05},\"mapbox\":{\"style\":\"light\"}}},\"xaxis\":{\"anchor\":\"y\",\"domain\":[0.0,1.0],\"title\":{\"text\":\"Jour\"}},\"yaxis\":{\"anchor\":\"x\",\"domain\":[0.0,1.0],\"title\":{\"text\":\"Nombre de v\\u00e9lo lou\\u00e9\"}},\"legend\":{\"tracegroupgap\":0},\"title\":{\"text\":\"Moyenne de v\\u00e9los lou\\u00e9s en fonction du jour\"}},                        {\"responsive\": true}                    ).then(function(){\n",
       "                            \n",
       "var gd = document.getElementById('d2a8f21e-3007-4d95-8878-5db20d56edcf');\n",
       "var x = new MutationObserver(function (mutations, observer) {{\n",
       "        var display = window.getComputedStyle(gd).display;\n",
       "        if (!display || display === 'none') {{\n",
       "            console.log([gd, 'removed!']);\n",
       "            Plotly.purge(gd);\n",
       "            observer.disconnect();\n",
       "        }}\n",
       "}});\n",
       "\n",
       "// Listen for the removal of the full notebook cells\n",
       "var notebookContainer = gd.closest('#notebook-container');\n",
       "if (notebookContainer) {{\n",
       "    x.observe(notebookContainer, {childList: true});\n",
       "}}\n",
       "\n",
       "// Listen for the clearing of the current output cell\n",
       "var outputEl = gd.closest('.output');\n",
       "if (outputEl) {{\n",
       "    x.observe(outputEl, {childList: true});\n",
       "}}\n",
       "\n",
       "                        })                };                });            </script>        </div>"
      ]
     },
     "metadata": {},
     "output_type": "display_data"
    }
   ],
   "source": [
    "import plotly.express as px\n",
    "\n",
    "fig = px.line(x=data_j.index,y=data_j[\"Rented_bike_count\"], labels={'x':'Jour', 'y':'Nombre de vélo loué'},title=\"Moyenne de vélos loués en fonction du jour\")\n",
    "fig.show()"
   ]
  },
  {
   "cell_type": "markdown",
   "id": "682a637c",
   "metadata": {},
   "source": [
    "# Corrélation et analyse statistique"
   ]
  },
  {
   "cell_type": "markdown",
   "id": "ee29eabe",
   "metadata": {},
   "source": [
    "### Matrice des corréaltions"
   ]
  },
  {
   "cell_type": "code",
   "execution_count": 135,
   "id": "5daab135",
   "metadata": {},
   "outputs": [
    {
     "data": {
      "image/png": "[encoded data removed]",
      "text/plain": [
       "<Figure size 864x864 with 2 Axes>"
      ]
     },
     "metadata": {},
     "output_type": "display_data"
    }
   ],
   "source": [
    "cor = data.corr()\n",
    "fig, ax = plt.subplots(figsize=(12,12))\n",
    "sns.heatmap(cor, annot=True, ax=ax, cmap='coolwarm');"
   ]
  },
  {
   "cell_type": "markdown",
   "id": "0f1c02c1",
   "metadata": {},
   "source": [
    "On peut voir que les colonnes \"Temperature\" et \"Dew_point_temperature\" sont extrêmement corrélées. On va donc supprimer cette dernière colonne."
   ]
  },
  {
   "cell_type": "code",
   "execution_count": 136,
   "id": "ccb7e219",
   "metadata": {},
   "outputs": [
    {
     "data": {
      "text/html": [
       "<div>\n",
       "<style scoped>\n",
       "    .dataframe tbody tr th:only-of-type {\n",
       "        vertical-align: middle;\n",
       "    }\n",
       "\n",
       "    .dataframe tbody tr th {\n",
       "        vertical-align: top;\n",
       "    }\n",
       "\n",
       "    .dataframe thead th {\n",
       "        text-align: right;\n",
       "    }\n",
       "</style>\n",
       "<table border=\"1\" class=\"dataframe\">\n",
       "  <thead>\n",
       "    <tr style=\"text-align: right;\">\n",
       "      <th></th>\n",
       "      <th>Date</th>\n",
       "      <th>Rented_bike_count</th>\n",
       "      <th>Hour</th>\n",
       "      <th>Temperature</th>\n",
       "      <th>Humidity</th>\n",
       "      <th>Wind_speed</th>\n",
       "      <th>Visibility</th>\n",
       "      <th>Solar_Radiation</th>\n",
       "      <th>Rainfall</th>\n",
       "      <th>Snowfall</th>\n",
       "      <th>Seasons</th>\n",
       "      <th>Holiday</th>\n",
       "      <th>Year</th>\n",
       "      <th>Month</th>\n",
       "      <th>Day</th>\n",
       "    </tr>\n",
       "  </thead>\n",
       "  <tbody>\n",
       "    <tr>\n",
       "      <th>0</th>\n",
       "      <td>2017-01-12</td>\n",
       "      <td>254</td>\n",
       "      <td>0</td>\n",
       "      <td>-5.2</td>\n",
       "      <td>37</td>\n",
       "      <td>2.2</td>\n",
       "      <td>2000</td>\n",
       "      <td>0.0</td>\n",
       "      <td>0.0</td>\n",
       "      <td>0.0</td>\n",
       "      <td>Winter</td>\n",
       "      <td>No Holiday</td>\n",
       "      <td>2017</td>\n",
       "      <td>1</td>\n",
       "      <td>12</td>\n",
       "    </tr>\n",
       "    <tr>\n",
       "      <th>1</th>\n",
       "      <td>2017-01-12</td>\n",
       "      <td>204</td>\n",
       "      <td>1</td>\n",
       "      <td>-5.5</td>\n",
       "      <td>38</td>\n",
       "      <td>0.8</td>\n",
       "      <td>2000</td>\n",
       "      <td>0.0</td>\n",
       "      <td>0.0</td>\n",
       "      <td>0.0</td>\n",
       "      <td>Winter</td>\n",
       "      <td>No Holiday</td>\n",
       "      <td>2017</td>\n",
       "      <td>1</td>\n",
       "      <td>12</td>\n",
       "    </tr>\n",
       "    <tr>\n",
       "      <th>2</th>\n",
       "      <td>2017-01-12</td>\n",
       "      <td>173</td>\n",
       "      <td>2</td>\n",
       "      <td>-6.0</td>\n",
       "      <td>39</td>\n",
       "      <td>1.0</td>\n",
       "      <td>2000</td>\n",
       "      <td>0.0</td>\n",
       "      <td>0.0</td>\n",
       "      <td>0.0</td>\n",
       "      <td>Winter</td>\n",
       "      <td>No Holiday</td>\n",
       "      <td>2017</td>\n",
       "      <td>1</td>\n",
       "      <td>12</td>\n",
       "    </tr>\n",
       "    <tr>\n",
       "      <th>3</th>\n",
       "      <td>2017-01-12</td>\n",
       "      <td>107</td>\n",
       "      <td>3</td>\n",
       "      <td>-6.2</td>\n",
       "      <td>40</td>\n",
       "      <td>0.9</td>\n",
       "      <td>2000</td>\n",
       "      <td>0.0</td>\n",
       "      <td>0.0</td>\n",
       "      <td>0.0</td>\n",
       "      <td>Winter</td>\n",
       "      <td>No Holiday</td>\n",
       "      <td>2017</td>\n",
       "      <td>1</td>\n",
       "      <td>12</td>\n",
       "    </tr>\n",
       "    <tr>\n",
       "      <th>4</th>\n",
       "      <td>2017-01-12</td>\n",
       "      <td>78</td>\n",
       "      <td>4</td>\n",
       "      <td>-6.0</td>\n",
       "      <td>36</td>\n",
       "      <td>2.3</td>\n",
       "      <td>2000</td>\n",
       "      <td>0.0</td>\n",
       "      <td>0.0</td>\n",
       "      <td>0.0</td>\n",
       "      <td>Winter</td>\n",
       "      <td>No Holiday</td>\n",
       "      <td>2017</td>\n",
       "      <td>1</td>\n",
       "      <td>12</td>\n",
       "    </tr>\n",
       "    <tr>\n",
       "      <th>...</th>\n",
       "      <td>...</td>\n",
       "      <td>...</td>\n",
       "      <td>...</td>\n",
       "      <td>...</td>\n",
       "      <td>...</td>\n",
       "      <td>...</td>\n",
       "      <td>...</td>\n",
       "      <td>...</td>\n",
       "      <td>...</td>\n",
       "      <td>...</td>\n",
       "      <td>...</td>\n",
       "      <td>...</td>\n",
       "      <td>...</td>\n",
       "      <td>...</td>\n",
       "      <td>...</td>\n",
       "    </tr>\n",
       "    <tr>\n",
       "      <th>8755</th>\n",
       "      <td>2018-11-30</td>\n",
       "      <td>1003</td>\n",
       "      <td>19</td>\n",
       "      <td>4.2</td>\n",
       "      <td>34</td>\n",
       "      <td>2.6</td>\n",
       "      <td>1894</td>\n",
       "      <td>0.0</td>\n",
       "      <td>0.0</td>\n",
       "      <td>0.0</td>\n",
       "      <td>Autumn</td>\n",
       "      <td>No Holiday</td>\n",
       "      <td>2018</td>\n",
       "      <td>11</td>\n",
       "      <td>30</td>\n",
       "    </tr>\n",
       "    <tr>\n",
       "      <th>8756</th>\n",
       "      <td>2018-11-30</td>\n",
       "      <td>764</td>\n",
       "      <td>20</td>\n",
       "      <td>3.4</td>\n",
       "      <td>37</td>\n",
       "      <td>2.3</td>\n",
       "      <td>2000</td>\n",
       "      <td>0.0</td>\n",
       "      <td>0.0</td>\n",
       "      <td>0.0</td>\n",
       "      <td>Autumn</td>\n",
       "      <td>No Holiday</td>\n",
       "      <td>2018</td>\n",
       "      <td>11</td>\n",
       "      <td>30</td>\n",
       "    </tr>\n",
       "    <tr>\n",
       "      <th>8757</th>\n",
       "      <td>2018-11-30</td>\n",
       "      <td>694</td>\n",
       "      <td>21</td>\n",
       "      <td>2.6</td>\n",
       "      <td>39</td>\n",
       "      <td>0.3</td>\n",
       "      <td>1968</td>\n",
       "      <td>0.0</td>\n",
       "      <td>0.0</td>\n",
       "      <td>0.0</td>\n",
       "      <td>Autumn</td>\n",
       "      <td>No Holiday</td>\n",
       "      <td>2018</td>\n",
       "      <td>11</td>\n",
       "      <td>30</td>\n",
       "    </tr>\n",
       "    <tr>\n",
       "      <th>8758</th>\n",
       "      <td>2018-11-30</td>\n",
       "      <td>712</td>\n",
       "      <td>22</td>\n",
       "      <td>2.1</td>\n",
       "      <td>41</td>\n",
       "      <td>1.0</td>\n",
       "      <td>1859</td>\n",
       "      <td>0.0</td>\n",
       "      <td>0.0</td>\n",
       "      <td>0.0</td>\n",
       "      <td>Autumn</td>\n",
       "      <td>No Holiday</td>\n",
       "      <td>2018</td>\n",
       "      <td>11</td>\n",
       "      <td>30</td>\n",
       "    </tr>\n",
       "    <tr>\n",
       "      <th>8759</th>\n",
       "      <td>2018-11-30</td>\n",
       "      <td>584</td>\n",
       "      <td>23</td>\n",
       "      <td>1.9</td>\n",
       "      <td>43</td>\n",
       "      <td>1.3</td>\n",
       "      <td>1909</td>\n",
       "      <td>0.0</td>\n",
       "      <td>0.0</td>\n",
       "      <td>0.0</td>\n",
       "      <td>Autumn</td>\n",
       "      <td>No Holiday</td>\n",
       "      <td>2018</td>\n",
       "      <td>11</td>\n",
       "      <td>30</td>\n",
       "    </tr>\n",
       "  </tbody>\n",
       "</table>\n",
       "<p>8465 rows × 15 columns</p>\n",
       "</div>"
      ],
      "text/plain": [
       "           Date  Rented_bike_count  Hour  Temperature  Humidity  Wind_speed  \\\n",
       "0    2017-01-12                254     0         -5.2        37         2.2   \n",
       "1    2017-01-12                204     1         -5.5        38         0.8   \n",
       "2    2017-01-12                173     2         -6.0        39         1.0   \n",
       "3    2017-01-12                107     3         -6.2        40         0.9   \n",
       "4    2017-01-12                 78     4         -6.0        36         2.3   \n",
       "...         ...                ...   ...          ...       ...         ...   \n",
       "8755 2018-11-30               1003    19          4.2        34         2.6   \n",
       "8756 2018-11-30                764    20          3.4        37         2.3   \n",
       "8757 2018-11-30                694    21          2.6        39         0.3   \n",
       "8758 2018-11-30                712    22          2.1        41         1.0   \n",
       "8759 2018-11-30                584    23          1.9        43         1.3   \n",
       "\n",
       "      Visibility  Solar_Radiation  Rainfall  Snowfall Seasons     Holiday  \\\n",
       "0           2000              0.0       0.0       0.0  Winter  No Holiday   \n",
       "1           2000              0.0       0.0       0.0  Winter  No Holiday   \n",
       "2           2000              0.0       0.0       0.0  Winter  No Holiday   \n",
       "3           2000              0.0       0.0       0.0  Winter  No Holiday   \n",
       "4           2000              0.0       0.0       0.0  Winter  No Holiday   \n",
       "...          ...              ...       ...       ...     ...         ...   \n",
       "8755        1894              0.0       0.0       0.0  Autumn  No Holiday   \n",
       "8756        2000              0.0       0.0       0.0  Autumn  No Holiday   \n",
       "8757        1968              0.0       0.0       0.0  Autumn  No Holiday   \n",
       "8758        1859              0.0       0.0       0.0  Autumn  No Holiday   \n",
       "8759        1909              0.0       0.0       0.0  Autumn  No Holiday   \n",
       "\n",
       "      Year  Month  Day  \n",
       "0     2017      1   12  \n",
       "1     2017      1   12  \n",
       "2     2017      1   12  \n",
       "3     2017      1   12  \n",
       "4     2017      1   12  \n",
       "...    ...    ...  ...  \n",
       "8755  2018     11   30  \n",
       "8756  2018     11   30  \n",
       "8757  2018     11   30  \n",
       "8758  2018     11   30  \n",
       "8759  2018     11   30  \n",
       "\n",
       "[8465 rows x 15 columns]"
      ]
     },
     "execution_count": 136,
     "metadata": {},
     "output_type": "execute_result"
    }
   ],
   "source": [
    "data = data.drop(columns=\"Dew_point_temperature\")\n",
    "data"
   ]
  },
  {
   "cell_type": "markdown",
   "id": "bdec65b3",
   "metadata": {},
   "source": [
    "## Dépendance statistique avec la variable target \"Rented Bike Count\""
   ]
  },
  {
   "cell_type": "markdown",
   "id": "af1c2e2b",
   "metadata": {},
   "source": [
    "### Nous réalisons un test de Pearson entre notre variable Target \"Rented Bike Count\" et les autres variables quantitatives du dataframe afin d'évaluer la dépendance entre les deux variables"
   ]
  },
  {
   "cell_type": "markdown",
   "id": "4ae223b7",
   "metadata": {},
   "source": [
    "Les p_values sont toutes < 5%, il y a donc une relation significative entre les variables quantitatives de notre DataFrame et la varibale target"
   ]
  },
  {
   "cell_type": "code",
   "execution_count": 137,
   "id": "eee1c199",
   "metadata": {},
   "outputs": [
    {
     "name": "stdout",
     "output_type": "stream",
     "text": [
      "              Temperature\n",
      "pearson_coef      0.56274\n",
      "p_value           0.00000\n",
      "                  Humidity\n",
      "pearson_coef -2.019727e-01\n",
      "p_value       1.241129e-78\n",
      "                Wind_speed\n",
      "pearson_coef  1.250219e-01\n",
      "p_value       7.704373e-31\n",
      "                Visibility\n",
      "pearson_coef  2.123228e-01\n",
      "p_value       6.895319e-87\n",
      "              Solar_Radiation\n",
      "pearson_coef     2.738616e-01\n",
      "p_value         1.692193e-145\n",
      "                  Rainfall\n",
      "pearson_coef -1.286261e-01\n",
      "p_value       1.469221e-32\n",
      "                  Snowfall\n",
      "pearson_coef -1.516108e-01\n",
      "p_value       1.049056e-44\n"
     ]
    }
   ],
   "source": [
    "from scipy.stats import pearsonr \n",
    "columns=[\"Temperature\",\"Humidity\",\"Wind_speed\",\"Visibility\",\"Solar_Radiation\",\"Rainfall\",\"Snowfall\"]   \n",
    "for col in columns:\n",
    "    print(pd.DataFrame(pearsonr(data[\"Rented_bike_count\"],data[col]),index=[\"pearson_coef\",\"p_value\"],columns=[col]))"
   ]
  },
  {
   "cell_type": "markdown",
   "id": "a157f899",
   "metadata": {},
   "source": [
    "### Test Anova pour analyser la relation entre les variables qualitatives et la variable target qui est quantitative"
   ]
  },
  {
   "cell_type": "markdown",
   "id": "814c0ca8",
   "metadata": {},
   "source": [
    "Les p-values sont < 5%"
   ]
  },
  {
   "cell_type": "code",
   "execution_count": 138,
   "id": "fd81ca2e",
   "metadata": {
    "scrolled": true
   },
   "outputs": [
    {
     "data": {
      "text/html": [
       "<div>\n",
       "<style scoped>\n",
       "    .dataframe tbody tr th:only-of-type {\n",
       "        vertical-align: middle;\n",
       "    }\n",
       "\n",
       "    .dataframe tbody tr th {\n",
       "        vertical-align: top;\n",
       "    }\n",
       "\n",
       "    .dataframe thead th {\n",
       "        text-align: right;\n",
       "    }\n",
       "</style>\n",
       "<table border=\"1\" class=\"dataframe\">\n",
       "  <thead>\n",
       "    <tr style=\"text-align: right;\">\n",
       "      <th></th>\n",
       "      <th>df</th>\n",
       "      <th>sum_sq</th>\n",
       "      <th>mean_sq</th>\n",
       "      <th>F</th>\n",
       "      <th>PR(&gt;F)</th>\n",
       "    </tr>\n",
       "  </thead>\n",
       "  <tbody>\n",
       "    <tr>\n",
       "      <th>Seasons</th>\n",
       "      <td>3.0</td>\n",
       "      <td>8.273756e+08</td>\n",
       "      <td>2.757919e+08</td>\n",
       "      <td>875.601073</td>\n",
       "      <td>0.0</td>\n",
       "    </tr>\n",
       "    <tr>\n",
       "      <th>Residual</th>\n",
       "      <td>8461.0</td>\n",
       "      <td>2.664998e+09</td>\n",
       "      <td>3.149743e+05</td>\n",
       "      <td>NaN</td>\n",
       "      <td>NaN</td>\n",
       "    </tr>\n",
       "  </tbody>\n",
       "</table>\n",
       "</div>"
      ],
      "text/plain": [
       "              df        sum_sq       mean_sq           F  PR(>F)\n",
       "Seasons      3.0  8.273756e+08  2.757919e+08  875.601073     0.0\n",
       "Residual  8461.0  2.664998e+09  3.149743e+05         NaN     NaN"
      ]
     },
     "execution_count": 138,
     "metadata": {},
     "output_type": "execute_result"
    }
   ],
   "source": [
    "import statsmodels.api\n",
    "result = statsmodels.formula.api.ols('Rented_bike_count ~ Seasons', data = data).fit() \n",
    "table = statsmodels.api.stats.anova_lm(result)\n",
    "table"
   ]
  },
  {
   "cell_type": "code",
   "execution_count": 139,
   "id": "3fd345b7",
   "metadata": {},
   "outputs": [
    {
     "data": {
      "text/html": [
       "<div>\n",
       "<style scoped>\n",
       "    .dataframe tbody tr th:only-of-type {\n",
       "        vertical-align: middle;\n",
       "    }\n",
       "\n",
       "    .dataframe tbody tr th {\n",
       "        vertical-align: top;\n",
       "    }\n",
       "\n",
       "    .dataframe thead th {\n",
       "        text-align: right;\n",
       "    }\n",
       "</style>\n",
       "<table border=\"1\" class=\"dataframe\">\n",
       "  <thead>\n",
       "    <tr style=\"text-align: right;\">\n",
       "      <th></th>\n",
       "      <th>df</th>\n",
       "      <th>sum_sq</th>\n",
       "      <th>mean_sq</th>\n",
       "      <th>F</th>\n",
       "      <th>PR(&gt;F)</th>\n",
       "    </tr>\n",
       "  </thead>\n",
       "  <tbody>\n",
       "    <tr>\n",
       "      <th>Holiday</th>\n",
       "      <td>1.0</td>\n",
       "      <td>1.714688e+07</td>\n",
       "      <td>1.714688e+07</td>\n",
       "      <td>41.756703</td>\n",
       "      <td>1.090780e-10</td>\n",
       "    </tr>\n",
       "    <tr>\n",
       "      <th>Residual</th>\n",
       "      <td>8463.0</td>\n",
       "      <td>3.475227e+09</td>\n",
       "      <td>4.106377e+05</td>\n",
       "      <td>NaN</td>\n",
       "      <td>NaN</td>\n",
       "    </tr>\n",
       "  </tbody>\n",
       "</table>\n",
       "</div>"
      ],
      "text/plain": [
       "              df        sum_sq       mean_sq          F        PR(>F)\n",
       "Holiday      1.0  1.714688e+07  1.714688e+07  41.756703  1.090780e-10\n",
       "Residual  8463.0  3.475227e+09  4.106377e+05        NaN           NaN"
      ]
     },
     "execution_count": 139,
     "metadata": {},
     "output_type": "execute_result"
    }
   ],
   "source": [
    "import statsmodels.api\n",
    "result = statsmodels.formula.api.ols('Rented_bike_count ~ Holiday', data = data).fit() \n",
    "table = statsmodels.api.stats.anova_lm(result)\n",
    "table"
   ]
  },
  {
   "cell_type": "markdown",
   "id": "f4cb95bf",
   "metadata": {},
   "source": [
    "# Machine Learning"
   ]
  },
  {
   "cell_type": "raw",
   "id": "8fc9a0b2",
   "metadata": {},
   "source": [
    "L'objectif avec ce dataset est de réussir à prédire le nombre de vélos loués par heure en fonction de différentes variables qui correspondent pour la plupart à des données métérologiques pour chaque heure de la journée."
   ]
  },
  {
   "cell_type": "code",
   "execution_count": 140,
   "id": "6984abd9",
   "metadata": {},
   "outputs": [],
   "source": [
    "import numpy as np\n",
    "\n",
    "from sklearn import model_selection, preprocessing\n",
    "\n",
    "from sklearn.model_selection import cross_val_predict, cross_val_score, cross_validate, train_test_split\n",
    "from sklearn.linear_model import LinearRegression, LassoCV, RidgeCV, ElasticNetCV\n",
    "from sklearn.metrics import mean_squared_error\n"
   ]
  },
  {
   "cell_type": "code",
   "execution_count": 141,
   "id": "6cc8f989",
   "metadata": {},
   "outputs": [],
   "source": [
    "# Dummies \n",
    "data['Hour'] = data['Hour'].astype(str)\n",
    "data=data.drop(columns=\"Date\")\n",
    "data=pd.get_dummies(data,sparse=True)"
   ]
  },
  {
   "cell_type": "code",
   "execution_count": 142,
   "id": "2dab79eb",
   "metadata": {
    "scrolled": true
   },
   "outputs": [
    {
     "data": {
      "text/html": [
       "<div>\n",
       "<style scoped>\n",
       "    .dataframe tbody tr th:only-of-type {\n",
       "        vertical-align: middle;\n",
       "    }\n",
       "\n",
       "    .dataframe tbody tr th {\n",
       "        vertical-align: top;\n",
       "    }\n",
       "\n",
       "    .dataframe thead th {\n",
       "        text-align: right;\n",
       "    }\n",
       "</style>\n",
       "<table border=\"1\" class=\"dataframe\">\n",
       "  <thead>\n",
       "    <tr style=\"text-align: right;\">\n",
       "      <th></th>\n",
       "      <th>Rented_bike_count</th>\n",
       "      <th>Temperature</th>\n",
       "      <th>Humidity</th>\n",
       "      <th>Wind_speed</th>\n",
       "      <th>Visibility</th>\n",
       "      <th>Solar_Radiation</th>\n",
       "      <th>Rainfall</th>\n",
       "      <th>Snowfall</th>\n",
       "      <th>Year</th>\n",
       "      <th>Month</th>\n",
       "      <th>...</th>\n",
       "      <th>Hour_6</th>\n",
       "      <th>Hour_7</th>\n",
       "      <th>Hour_8</th>\n",
       "      <th>Hour_9</th>\n",
       "      <th>Seasons_Autumn</th>\n",
       "      <th>Seasons_Spring</th>\n",
       "      <th>Seasons_Summer</th>\n",
       "      <th>Seasons_Winter</th>\n",
       "      <th>Holiday_Holiday</th>\n",
       "      <th>Holiday_No Holiday</th>\n",
       "    </tr>\n",
       "  </thead>\n",
       "  <tbody>\n",
       "    <tr>\n",
       "      <th>0</th>\n",
       "      <td>254</td>\n",
       "      <td>-5.2</td>\n",
       "      <td>37</td>\n",
       "      <td>2.2</td>\n",
       "      <td>2000</td>\n",
       "      <td>0.0</td>\n",
       "      <td>0.0</td>\n",
       "      <td>0.0</td>\n",
       "      <td>2017</td>\n",
       "      <td>1</td>\n",
       "      <td>...</td>\n",
       "      <td>0</td>\n",
       "      <td>0</td>\n",
       "      <td>0</td>\n",
       "      <td>0</td>\n",
       "      <td>0</td>\n",
       "      <td>0</td>\n",
       "      <td>0</td>\n",
       "      <td>1</td>\n",
       "      <td>0</td>\n",
       "      <td>1</td>\n",
       "    </tr>\n",
       "    <tr>\n",
       "      <th>1</th>\n",
       "      <td>204</td>\n",
       "      <td>-5.5</td>\n",
       "      <td>38</td>\n",
       "      <td>0.8</td>\n",
       "      <td>2000</td>\n",
       "      <td>0.0</td>\n",
       "      <td>0.0</td>\n",
       "      <td>0.0</td>\n",
       "      <td>2017</td>\n",
       "      <td>1</td>\n",
       "      <td>...</td>\n",
       "      <td>0</td>\n",
       "      <td>0</td>\n",
       "      <td>0</td>\n",
       "      <td>0</td>\n",
       "      <td>0</td>\n",
       "      <td>0</td>\n",
       "      <td>0</td>\n",
       "      <td>1</td>\n",
       "      <td>0</td>\n",
       "      <td>1</td>\n",
       "    </tr>\n",
       "    <tr>\n",
       "      <th>2</th>\n",
       "      <td>173</td>\n",
       "      <td>-6.0</td>\n",
       "      <td>39</td>\n",
       "      <td>1.0</td>\n",
       "      <td>2000</td>\n",
       "      <td>0.0</td>\n",
       "      <td>0.0</td>\n",
       "      <td>0.0</td>\n",
       "      <td>2017</td>\n",
       "      <td>1</td>\n",
       "      <td>...</td>\n",
       "      <td>0</td>\n",
       "      <td>0</td>\n",
       "      <td>0</td>\n",
       "      <td>0</td>\n",
       "      <td>0</td>\n",
       "      <td>0</td>\n",
       "      <td>0</td>\n",
       "      <td>1</td>\n",
       "      <td>0</td>\n",
       "      <td>1</td>\n",
       "    </tr>\n",
       "    <tr>\n",
       "      <th>3</th>\n",
       "      <td>107</td>\n",
       "      <td>-6.2</td>\n",
       "      <td>40</td>\n",
       "      <td>0.9</td>\n",
       "      <td>2000</td>\n",
       "      <td>0.0</td>\n",
       "      <td>0.0</td>\n",
       "      <td>0.0</td>\n",
       "      <td>2017</td>\n",
       "      <td>1</td>\n",
       "      <td>...</td>\n",
       "      <td>0</td>\n",
       "      <td>0</td>\n",
       "      <td>0</td>\n",
       "      <td>0</td>\n",
       "      <td>0</td>\n",
       "      <td>0</td>\n",
       "      <td>0</td>\n",
       "      <td>1</td>\n",
       "      <td>0</td>\n",
       "      <td>1</td>\n",
       "    </tr>\n",
       "    <tr>\n",
       "      <th>4</th>\n",
       "      <td>78</td>\n",
       "      <td>-6.0</td>\n",
       "      <td>36</td>\n",
       "      <td>2.3</td>\n",
       "      <td>2000</td>\n",
       "      <td>0.0</td>\n",
       "      <td>0.0</td>\n",
       "      <td>0.0</td>\n",
       "      <td>2017</td>\n",
       "      <td>1</td>\n",
       "      <td>...</td>\n",
       "      <td>0</td>\n",
       "      <td>0</td>\n",
       "      <td>0</td>\n",
       "      <td>0</td>\n",
       "      <td>0</td>\n",
       "      <td>0</td>\n",
       "      <td>0</td>\n",
       "      <td>1</td>\n",
       "      <td>0</td>\n",
       "      <td>1</td>\n",
       "    </tr>\n",
       "    <tr>\n",
       "      <th>...</th>\n",
       "      <td>...</td>\n",
       "      <td>...</td>\n",
       "      <td>...</td>\n",
       "      <td>...</td>\n",
       "      <td>...</td>\n",
       "      <td>...</td>\n",
       "      <td>...</td>\n",
       "      <td>...</td>\n",
       "      <td>...</td>\n",
       "      <td>...</td>\n",
       "      <td>...</td>\n",
       "      <td>...</td>\n",
       "      <td>...</td>\n",
       "      <td>...</td>\n",
       "      <td>...</td>\n",
       "      <td>...</td>\n",
       "      <td>...</td>\n",
       "      <td>...</td>\n",
       "      <td>...</td>\n",
       "      <td>...</td>\n",
       "      <td>...</td>\n",
       "    </tr>\n",
       "    <tr>\n",
       "      <th>8755</th>\n",
       "      <td>1003</td>\n",
       "      <td>4.2</td>\n",
       "      <td>34</td>\n",
       "      <td>2.6</td>\n",
       "      <td>1894</td>\n",
       "      <td>0.0</td>\n",
       "      <td>0.0</td>\n",
       "      <td>0.0</td>\n",
       "      <td>2018</td>\n",
       "      <td>11</td>\n",
       "      <td>...</td>\n",
       "      <td>0</td>\n",
       "      <td>0</td>\n",
       "      <td>0</td>\n",
       "      <td>0</td>\n",
       "      <td>1</td>\n",
       "      <td>0</td>\n",
       "      <td>0</td>\n",
       "      <td>0</td>\n",
       "      <td>0</td>\n",
       "      <td>1</td>\n",
       "    </tr>\n",
       "    <tr>\n",
       "      <th>8756</th>\n",
       "      <td>764</td>\n",
       "      <td>3.4</td>\n",
       "      <td>37</td>\n",
       "      <td>2.3</td>\n",
       "      <td>2000</td>\n",
       "      <td>0.0</td>\n",
       "      <td>0.0</td>\n",
       "      <td>0.0</td>\n",
       "      <td>2018</td>\n",
       "      <td>11</td>\n",
       "      <td>...</td>\n",
       "      <td>0</td>\n",
       "      <td>0</td>\n",
       "      <td>0</td>\n",
       "      <td>0</td>\n",
       "      <td>1</td>\n",
       "      <td>0</td>\n",
       "      <td>0</td>\n",
       "      <td>0</td>\n",
       "      <td>0</td>\n",
       "      <td>1</td>\n",
       "    </tr>\n",
       "    <tr>\n",
       "      <th>8757</th>\n",
       "      <td>694</td>\n",
       "      <td>2.6</td>\n",
       "      <td>39</td>\n",
       "      <td>0.3</td>\n",
       "      <td>1968</td>\n",
       "      <td>0.0</td>\n",
       "      <td>0.0</td>\n",
       "      <td>0.0</td>\n",
       "      <td>2018</td>\n",
       "      <td>11</td>\n",
       "      <td>...</td>\n",
       "      <td>0</td>\n",
       "      <td>0</td>\n",
       "      <td>0</td>\n",
       "      <td>0</td>\n",
       "      <td>1</td>\n",
       "      <td>0</td>\n",
       "      <td>0</td>\n",
       "      <td>0</td>\n",
       "      <td>0</td>\n",
       "      <td>1</td>\n",
       "    </tr>\n",
       "    <tr>\n",
       "      <th>8758</th>\n",
       "      <td>712</td>\n",
       "      <td>2.1</td>\n",
       "      <td>41</td>\n",
       "      <td>1.0</td>\n",
       "      <td>1859</td>\n",
       "      <td>0.0</td>\n",
       "      <td>0.0</td>\n",
       "      <td>0.0</td>\n",
       "      <td>2018</td>\n",
       "      <td>11</td>\n",
       "      <td>...</td>\n",
       "      <td>0</td>\n",
       "      <td>0</td>\n",
       "      <td>0</td>\n",
       "      <td>0</td>\n",
       "      <td>1</td>\n",
       "      <td>0</td>\n",
       "      <td>0</td>\n",
       "      <td>0</td>\n",
       "      <td>0</td>\n",
       "      <td>1</td>\n",
       "    </tr>\n",
       "    <tr>\n",
       "      <th>8759</th>\n",
       "      <td>584</td>\n",
       "      <td>1.9</td>\n",
       "      <td>43</td>\n",
       "      <td>1.3</td>\n",
       "      <td>1909</td>\n",
       "      <td>0.0</td>\n",
       "      <td>0.0</td>\n",
       "      <td>0.0</td>\n",
       "      <td>2018</td>\n",
       "      <td>11</td>\n",
       "      <td>...</td>\n",
       "      <td>0</td>\n",
       "      <td>0</td>\n",
       "      <td>0</td>\n",
       "      <td>0</td>\n",
       "      <td>1</td>\n",
       "      <td>0</td>\n",
       "      <td>0</td>\n",
       "      <td>0</td>\n",
       "      <td>0</td>\n",
       "      <td>1</td>\n",
       "    </tr>\n",
       "  </tbody>\n",
       "</table>\n",
       "<p>8465 rows × 41 columns</p>\n",
       "</div>"
      ],
      "text/plain": [
       "      Rented_bike_count  Temperature  Humidity  Wind_speed  Visibility  \\\n",
       "0                   254         -5.2        37         2.2        2000   \n",
       "1                   204         -5.5        38         0.8        2000   \n",
       "2                   173         -6.0        39         1.0        2000   \n",
       "3                   107         -6.2        40         0.9        2000   \n",
       "4                    78         -6.0        36         2.3        2000   \n",
       "...                 ...          ...       ...         ...         ...   \n",
       "8755               1003          4.2        34         2.6        1894   \n",
       "8756                764          3.4        37         2.3        2000   \n",
       "8757                694          2.6        39         0.3        1968   \n",
       "8758                712          2.1        41         1.0        1859   \n",
       "8759                584          1.9        43         1.3        1909   \n",
       "\n",
       "      Solar_Radiation  Rainfall  Snowfall  Year  Month  ...  Hour_6  Hour_7  \\\n",
       "0                 0.0       0.0       0.0  2017      1  ...       0       0   \n",
       "1                 0.0       0.0       0.0  2017      1  ...       0       0   \n",
       "2                 0.0       0.0       0.0  2017      1  ...       0       0   \n",
       "3                 0.0       0.0       0.0  2017      1  ...       0       0   \n",
       "4                 0.0       0.0       0.0  2017      1  ...       0       0   \n",
       "...               ...       ...       ...   ...    ...  ...     ...     ...   \n",
       "8755              0.0       0.0       0.0  2018     11  ...       0       0   \n",
       "8756              0.0       0.0       0.0  2018     11  ...       0       0   \n",
       "8757              0.0       0.0       0.0  2018     11  ...       0       0   \n",
       "8758              0.0       0.0       0.0  2018     11  ...       0       0   \n",
       "8759              0.0       0.0       0.0  2018     11  ...       0       0   \n",
       "\n",
       "      Hour_8  Hour_9  Seasons_Autumn  Seasons_Spring  Seasons_Summer  \\\n",
       "0          0       0               0               0               0   \n",
       "1          0       0               0               0               0   \n",
       "2          0       0               0               0               0   \n",
       "3          0       0               0               0               0   \n",
       "4          0       0               0               0               0   \n",
       "...      ...     ...             ...             ...             ...   \n",
       "8755       0       0               1               0               0   \n",
       "8756       0       0               1               0               0   \n",
       "8757       0       0               1               0               0   \n",
       "8758       0       0               1               0               0   \n",
       "8759       0       0               1               0               0   \n",
       "\n",
       "      Seasons_Winter  Holiday_Holiday  Holiday_No Holiday  \n",
       "0                  1                0                   1  \n",
       "1                  1                0                   1  \n",
       "2                  1                0                   1  \n",
       "3                  1                0                   1  \n",
       "4                  1                0                   1  \n",
       "...              ...              ...                 ...  \n",
       "8755               0                0                   1  \n",
       "8756               0                0                   1  \n",
       "8757               0                0                   1  \n",
       "8758               0                0                   1  \n",
       "8759               0                0                   1  \n",
       "\n",
       "[8465 rows x 41 columns]"
      ]
     },
     "execution_count": 142,
     "metadata": {},
     "output_type": "execute_result"
    }
   ],
   "source": [
    "data"
   ]
  },
  {
   "cell_type": "code",
   "execution_count": 143,
   "id": "2a587a0b",
   "metadata": {},
   "outputs": [
    {
     "data": {
      "text/plain": [
       "Index(['Rented_bike_count', 'Temperature', 'Humidity', 'Wind_speed',\n",
       "       'Visibility', 'Solar_Radiation', 'Rainfall', 'Snowfall', 'Year',\n",
       "       'Month', 'Day', 'Hour_0', 'Hour_1', 'Hour_10', 'Hour_11', 'Hour_12',\n",
       "       'Hour_13', 'Hour_14', 'Hour_15', 'Hour_16', 'Hour_17', 'Hour_18',\n",
       "       'Hour_19', 'Hour_2', 'Hour_20', 'Hour_21', 'Hour_22', 'Hour_23',\n",
       "       'Hour_3', 'Hour_4', 'Hour_5', 'Hour_6', 'Hour_7', 'Hour_8', 'Hour_9',\n",
       "       'Seasons_Autumn', 'Seasons_Spring', 'Seasons_Summer', 'Seasons_Winter',\n",
       "       'Holiday_Holiday', 'Holiday_No Holiday'],\n",
       "      dtype='object')"
      ]
     },
     "execution_count": 143,
     "metadata": {},
     "output_type": "execute_result"
    }
   ],
   "source": [
    "data.columns"
   ]
  },
  {
   "cell_type": "code",
   "execution_count": 144,
   "id": "95138348",
   "metadata": {},
   "outputs": [],
   "source": [
    "# On va subdiviser notre étude sur plusieurs périmètres avec à chaque fois des différentes variables \n",
    "\n",
    "dataset=data\n",
    "\n",
    "dataset1 = data.copy().drop(['Humidity', 'Rainfall', 'Snowfall'], axis = 1)  # Sans les variables dont la corrélation est négative\n",
    "\n",
    "dataset2 =  data[[\"Rented_bike_count\",'Temperature']]  #Avec les variables les plus corrélée à la variable target"
   ]
  },
  {
   "cell_type": "code",
   "execution_count": 145,
   "id": "4c3cfcee",
   "metadata": {},
   "outputs": [],
   "source": [
    "X= data.drop(columns = 'Rented_bike_count')\n",
    "X1 = dataset1.drop(columns = 'Rented_bike_count')\n",
    "X2= dataset2.drop(columns = \"Rented_bike_count\")\n",
    "y = data[\"Rented_bike_count\"]\n"
   ]
  },
  {
   "cell_type": "markdown",
   "id": "7806a18f",
   "metadata": {},
   "source": [
    "# Régression linéaire"
   ]
  },
  {
   "cell_type": "code",
   "execution_count": 146,
   "id": "e1196894",
   "metadata": {},
   "outputs": [
    {
     "name": "stdout",
     "output_type": "stream",
     "text": [
      "\n",
      "\n",
      "score train :  0.6614760895806244\n",
      "score test : 0.6652773441455361\n",
      "mean absolute error is  : 502040.6058586664\n",
      "mean squared error is  : 885073432553.3466\n",
      "Root mean squared error is  : 940783.414263531\n",
      "R2 score is  : 0.5630734308741695\n",
      "\n",
      " Pour notre deuxième dataset \n",
      "\n",
      "score train :  0.6277209417276309\n",
      "score test : 0.6338625321210347\n",
      "mean absolute error is  : 519374.9824289494\n",
      "mean squared error is  : 938407564256.6521\n",
      "Root mean squared error is  : 968714.3873488471\n",
      "R2 score is  : 0.5367444299965775\n",
      " \n",
      " Pour notre troisième dataset \n",
      "\n",
      "score train :  0.31467928591123917\n",
      "score test : 0.32488243123316574\n",
      "mean absolute error is  : 722124.1431036373\n",
      "mean squared error is  : 1693389545905.114\n",
      "Root mean squared error is  : 1301303.0184799826\n",
      "R2 score is  : 0.16403898561120367\n"
     ]
    },
    {
     "name": "stderr",
     "output_type": "stream",
     "text": [
      "C:\\Users\\33666\\anaconda3\\lib\\site-packages\\sklearn\\utils\\validation.py:508: UserWarning:\n",
      "\n",
      "pandas.DataFrame with sparse columns found.It will be converted to a dense numpy array.\n",
      "\n",
      "C:\\Users\\33666\\anaconda3\\lib\\site-packages\\sklearn\\utils\\validation.py:508: UserWarning:\n",
      "\n",
      "pandas.DataFrame with sparse columns found.It will be converted to a dense numpy array.\n",
      "\n",
      "C:\\Users\\33666\\anaconda3\\lib\\site-packages\\sklearn\\utils\\validation.py:508: UserWarning:\n",
      "\n",
      "pandas.DataFrame with sparse columns found.It will be converted to a dense numpy array.\n",
      "\n",
      "C:\\Users\\33666\\anaconda3\\lib\\site-packages\\sklearn\\utils\\validation.py:508: UserWarning:\n",
      "\n",
      "pandas.DataFrame with sparse columns found.It will be converted to a dense numpy array.\n",
      "\n",
      "C:\\Users\\33666\\anaconda3\\lib\\site-packages\\sklearn\\utils\\validation.py:508: UserWarning:\n",
      "\n",
      "pandas.DataFrame with sparse columns found.It will be converted to a dense numpy array.\n",
      "\n",
      "C:\\Users\\33666\\anaconda3\\lib\\site-packages\\sklearn\\utils\\validation.py:508: UserWarning:\n",
      "\n",
      "pandas.DataFrame with sparse columns found.It will be converted to a dense numpy array.\n",
      "\n",
      "C:\\Users\\33666\\anaconda3\\lib\\site-packages\\sklearn\\utils\\validation.py:508: UserWarning:\n",
      "\n",
      "pandas.DataFrame with sparse columns found.It will be converted to a dense numpy array.\n",
      "\n",
      "C:\\Users\\33666\\anaconda3\\lib\\site-packages\\sklearn\\utils\\validation.py:508: UserWarning:\n",
      "\n",
      "pandas.DataFrame with sparse columns found.It will be converted to a dense numpy array.\n",
      "\n",
      "C:\\Users\\33666\\anaconda3\\lib\\site-packages\\sklearn\\utils\\validation.py:508: UserWarning:\n",
      "\n",
      "pandas.DataFrame with sparse columns found.It will be converted to a dense numpy array.\n",
      "\n",
      "C:\\Users\\33666\\anaconda3\\lib\\site-packages\\sklearn\\utils\\validation.py:508: UserWarning:\n",
      "\n",
      "pandas.DataFrame with sparse columns found.It will be converted to a dense numpy array.\n",
      "\n",
      "C:\\Users\\33666\\anaconda3\\lib\\site-packages\\sklearn\\utils\\validation.py:508: UserWarning:\n",
      "\n",
      "pandas.DataFrame with sparse columns found.It will be converted to a dense numpy array.\n",
      "\n",
      "C:\\Users\\33666\\anaconda3\\lib\\site-packages\\sklearn\\utils\\validation.py:508: UserWarning:\n",
      "\n",
      "pandas.DataFrame with sparse columns found.It will be converted to a dense numpy array.\n",
      "\n",
      "C:\\Users\\33666\\anaconda3\\lib\\site-packages\\sklearn\\utils\\validation.py:508: UserWarning:\n",
      "\n",
      "pandas.DataFrame with sparse columns found.It will be converted to a dense numpy array.\n",
      "\n",
      "C:\\Users\\33666\\anaconda3\\lib\\site-packages\\sklearn\\utils\\validation.py:508: UserWarning:\n",
      "\n",
      "pandas.DataFrame with sparse columns found.It will be converted to a dense numpy array.\n",
      "\n"
     ]
    }
   ],
   "source": [
    "#Split des données\n",
    "X_train,X_test,y_train,y_test = train_test_split(X,y, test_size=0.2,random_state=42)\n",
    "X1_train,X1_test,y1_train,y1_test = train_test_split(X1,y, test_size=0.2,random_state=42)\n",
    "X2_train,X2_test,y2_train,y2_test = train_test_split(X2,y, test_size=0.2,random_state=42)\n",
    "\n",
    "#Scale des données \n",
    "def ScaleData(x_train,x_test):\n",
    "    scaler =  preprocessing.StandardScaler(with_mean=False)\n",
    "    scaler.fit(x_train)             \n",
    "    x_train = scaler.transform(x_train, copy = False)\n",
    "    x_test  = scaler.transform(x_test, copy = False)\n",
    "    \n",
    "ScaleData(X_train,X_test)   \n",
    "ScaleData(X1_train,X1_test)\n",
    "ScaleData(X2_train,X2_test)\n",
    "\n",
    "# Model de regression linéaire multiple\n",
    "\n",
    "#Fonction qui nous retourne les metrics pour évaluer notre modèle \n",
    "\n",
    "def score_metrics(y_test,pred):\n",
    "    mae = mean_absolute_error(y_test**2,pred**2)\n",
    "    print('mean absolute error is  :',mae)\n",
    "    mse = mean_squared_error(y_test**2,pred**2)\n",
    "    print('mean squared error is  :',mse)\n",
    "    print('Root mean squared error is  :',np.sqrt(mse))\n",
    "    print(\"R2 score is  :\",r2_score(y_test**2,pred**2))\n",
    "    \n",
    "    \n",
    "# Fonction du modèle \n",
    "\n",
    "def LinReg(x_train,x_test,y_train,y_test):\n",
    "    regression = LinearRegression()\n",
    "    regression.fit(x_train,y_train)\n",
    "    print('score train : ', regression.score(x_train,y_train))\n",
    "    print('score test :', regression.score(x_test, y_test))\n",
    "    reg_pred = regression.predict(x_test)\n",
    "    score_metrics(y_test,reg_pred)\n",
    "\n",
    "print(\"\\n\")\n",
    "\n",
    "LinReg(X_train,X_test,y_train,y_test)   \n",
    "    \n",
    "print(\"\\n Pour notre deuxième dataset \\n\") \n",
    "\n",
    "LinReg(X1_train,X1_test,y1_train,y1_test)   \n",
    "\n",
    "print(\" \\n Pour notre troisième dataset \\n\") \n",
    "\n",
    "LinReg(X2_train,X2_test,y2_train,y2_test)\n",
    "\n"
   ]
  },
  {
   "cell_type": "markdown",
   "id": "1789ff1b",
   "metadata": {},
   "source": [
    "## Régression linéaire régularisée : Ridge, Lasso  "
   ]
  },
  {
   "cell_type": "markdown",
   "id": "84142ff5",
   "metadata": {},
   "source": [
    "#### Ridge "
   ]
  },
  {
   "cell_type": "code",
   "execution_count": 147,
   "id": "ec807509",
   "metadata": {},
   "outputs": [
    {
     "name": "stdout",
     "output_type": "stream",
     "text": [
      "alpha sélectionné par c-v : 1.0\n",
      "score train : 0.661471917890709\n",
      "score test : 0.6652461525502631\n",
      "mse train : 141347.76775396478\n",
      "mse test : 131419.79528153499\n"
     ]
    },
    {
     "name": "stderr",
     "output_type": "stream",
     "text": [
      "C:\\Users\\33666\\anaconda3\\lib\\site-packages\\sklearn\\utils\\validation.py:508: UserWarning:\n",
      "\n",
      "pandas.DataFrame with sparse columns found.It will be converted to a dense numpy array.\n",
      "\n",
      "C:\\Users\\33666\\anaconda3\\lib\\site-packages\\sklearn\\utils\\validation.py:508: UserWarning:\n",
      "\n",
      "pandas.DataFrame with sparse columns found.It will be converted to a dense numpy array.\n",
      "\n",
      "C:\\Users\\33666\\anaconda3\\lib\\site-packages\\sklearn\\utils\\validation.py:508: UserWarning:\n",
      "\n",
      "pandas.DataFrame with sparse columns found.It will be converted to a dense numpy array.\n",
      "\n",
      "C:\\Users\\33666\\anaconda3\\lib\\site-packages\\sklearn\\utils\\validation.py:508: UserWarning:\n",
      "\n",
      "pandas.DataFrame with sparse columns found.It will be converted to a dense numpy array.\n",
      "\n",
      "C:\\Users\\33666\\anaconda3\\lib\\site-packages\\sklearn\\utils\\validation.py:508: UserWarning:\n",
      "\n",
      "pandas.DataFrame with sparse columns found.It will be converted to a dense numpy array.\n",
      "\n"
     ]
    }
   ],
   "source": [
    "# Nous allons prendre en compte uniquement le premier dataset pour utiliser le modèle de Ridge\n",
    "\n",
    "#Pour obtenir le meilleur modèle prédictif possible, il est préférable \n",
    "#d'utiliser la classe RidgeCV à qui l'on donne dans le paramètre alphas\n",
    "#une liste de valeurs pour  α  que la fonction parcourra pour créer et évaluer plusieurs modèles par validation croisée,\n",
    "#puis sélectionner le  α  entraînant les meilleures performances.\n",
    "\n",
    "from sklearn.linear_model import RidgeCV\n",
    "\n",
    "ridge_reg = RidgeCV(alphas= (1e-15,1e-13,1e-10,1e-8,1e-5,1e-4,1e-3,1e-2, 0.1, 0.3, 0.7, 1, 10, 50, 100, 4000,10000))\n",
    "ridge_reg.fit(X_train, y_train) \n",
    "\n",
    "print('alpha sélectionné par c-v :', ridge_reg.alpha_)\n",
    "print('score train :', ridge_reg.score(X_train, y_train))\n",
    "print('score test :', ridge_reg.score(X_test, y_test))\n",
    "\n",
    "ridge_pred_train = ridge_reg.predict(X_train)\n",
    "ridge_pred_test = ridge_reg.predict(X_test)\n",
    "\n",
    "print('mse train :', mean_squared_error(ridge_pred_train, y_train))\n",
    "print('mse test :', mean_squared_error(ridge_pred_test, y_test))\n",
    "\n"
   ]
  },
  {
   "cell_type": "markdown",
   "id": "6251fe84",
   "metadata": {},
   "source": [
    "#### Lasso"
   ]
  },
  {
   "cell_type": "code",
   "execution_count": 148,
   "id": "01080bfe",
   "metadata": {},
   "outputs": [
    {
     "name": "stderr",
     "output_type": "stream",
     "text": [
      "<ipython-input-148-76d613608c30>:7: UserWarning:\n",
      "\n",
      "With alpha=0, this algorithm does not converge well. You are advised to use the LinearRegression estimator\n",
      "\n",
      "C:\\Users\\33666\\anaconda3\\lib\\site-packages\\sklearn\\utils\\validation.py:508: UserWarning:\n",
      "\n",
      "pandas.DataFrame with sparse columns found.It will be converted to a dense numpy array.\n",
      "\n",
      "C:\\Users\\33666\\anaconda3\\lib\\site-packages\\sklearn\\linear_model\\_coordinate_descent.py:529: UserWarning:\n",
      "\n",
      "Coordinate descent with no regularization may lead to unexpected results and is discouraged.\n",
      "\n"
     ]
    },
    {
     "name": "stdout",
     "output_type": "stream",
     "text": [
      "score train : 0.6614760886609716\n",
      "score test : 0.6652776737678592\n",
      "mse train : 141346.0263059208\n",
      "mse test : 131407.42048137943\n"
     ]
    },
    {
     "name": "stderr",
     "output_type": "stream",
     "text": [
      "C:\\Users\\33666\\anaconda3\\lib\\site-packages\\sklearn\\linear_model\\_coordinate_descent.py:529: ConvergenceWarning:\n",
      "\n",
      "Objective did not converge. You might want to increase the number of iterations. Duality gap: 478597645.07184625, tolerance: 282755.59216999414\n",
      "\n",
      "C:\\Users\\33666\\anaconda3\\lib\\site-packages\\sklearn\\utils\\validation.py:508: UserWarning:\n",
      "\n",
      "pandas.DataFrame with sparse columns found.It will be converted to a dense numpy array.\n",
      "\n",
      "C:\\Users\\33666\\anaconda3\\lib\\site-packages\\sklearn\\utils\\validation.py:508: UserWarning:\n",
      "\n",
      "pandas.DataFrame with sparse columns found.It will be converted to a dense numpy array.\n",
      "\n",
      "C:\\Users\\33666\\anaconda3\\lib\\site-packages\\sklearn\\utils\\validation.py:508: UserWarning:\n",
      "\n",
      "pandas.DataFrame with sparse columns found.It will be converted to a dense numpy array.\n",
      "\n",
      "C:\\Users\\33666\\anaconda3\\lib\\site-packages\\sklearn\\utils\\validation.py:508: UserWarning:\n",
      "\n",
      "pandas.DataFrame with sparse columns found.It will be converted to a dense numpy array.\n",
      "\n"
     ]
    }
   ],
   "source": [
    "# Nous allons utiliser la regression lasso avec un alpha=1\n",
    "\n",
    "from sklearn.linear_model import Lasso\n",
    "\n",
    "lasso_r = Lasso(alpha=0)\n",
    "\n",
    "lasso_r.fit(X_train, y_train)\n",
    "\n",
    "print('score train :', lasso_r.score(X_train, y_train))\n",
    "print('score test :', lasso_r.score(X_test, y_test))\n",
    "\n",
    "lasso_pred_train = lasso_r.predict(X_train)\n",
    "lasso_pred_test = lasso_r.predict(X_test)\n",
    "\n",
    "print('mse train :', mean_squared_error(lasso_pred_train, y_train))\n",
    "print('mse test :', mean_squared_error(lasso_pred_test, y_test))\n"
   ]
  },
  {
   "cell_type": "code",
   "execution_count": 149,
   "id": "7986d191",
   "metadata": {},
   "outputs": [
    {
     "data": {
      "image/png": "[encoded data removed]",
      "text/plain": [
       "<Figure size 1440x360 with 1 Axes>"
      ]
     },
     "metadata": {},
     "output_type": "display_data"
    }
   ],
   "source": [
    "lasso_coef = lasso_r.coef_\n",
    "\n",
    "plt.plot(range(len(X.columns)), lasso_coef)\n",
    "plt.xticks(range(len(X.columns)), X.columns.values, rotation=70);\n"
   ]
  },
  {
   "cell_type": "code",
   "execution_count": 150,
   "id": "e40e15ab",
   "metadata": {
    "scrolled": true
   },
   "outputs": [
    {
     "data": {
      "text/plain": [
       "array([ 2.38019889e+01, -7.17214892e+00,  5.06104618e-02, -1.61592293e-03,\n",
       "        7.13358528e+01, -6.40830382e+01,  2.18161066e+01, -1.00460281e+02,\n",
       "       -5.74977400e-01, -1.35228554e+00, -7.73395720e+01, -1.87221877e+02,\n",
       "       -2.89997469e+02, -3.06669740e+02, -2.52833062e+02, -2.60660675e+02,\n",
       "       -2.87437034e+02, -1.76004080e+02, -2.79659636e+01,  2.55515594e+02,\n",
       "        7.04389016e+02,  4.47362467e+02, -2.91342205e+02,  3.62698631e+02,\n",
       "        3.51941410e+02,  2.59239207e+02,  3.11503811e+01, -3.79792857e+02,\n",
       "       -4.36644023e+02, -4.25043402e+02, -2.62768235e+02,  4.75443189e+01,\n",
       "        4.32122494e+02, -4.85200706e+01,  2.80787136e+02,  1.14675650e+02,\n",
       "        1.22684218e+02, -1.17900794e+02, -1.31800121e+02, -3.65411506e-11])"
      ]
     },
     "execution_count": 150,
     "metadata": {},
     "output_type": "execute_result"
    }
   ],
   "source": [
    "lasso_r.coef_ #Nous constatons que toutes les variables ont été séléctionnées par Lasso, pas de coefs nuls "
   ]
  },
  {
   "cell_type": "code",
   "execution_count": 151,
   "id": "097c405b",
   "metadata": {},
   "outputs": [
    {
     "name": "stderr",
     "output_type": "stream",
     "text": [
      "C:\\Users\\33666\\anaconda3\\lib\\site-packages\\sklearn\\utils\\validation.py:508: UserWarning:\n",
      "\n",
      "pandas.DataFrame with sparse columns found.It will be converted to a dense numpy array.\n",
      "\n",
      "C:\\Users\\33666\\anaconda3\\lib\\site-packages\\sklearn\\linear_model\\_coordinate_descent.py:525: ConvergenceWarning:\n",
      "\n",
      "Objective did not converge. You might want to increase the number of iterations. Duality gap: 420012837.0938806, tolerance: 254190.41071816545\n",
      "\n",
      "C:\\Users\\33666\\anaconda3\\lib\\site-packages\\sklearn\\linear_model\\_coordinate_descent.py:525: ConvergenceWarning:\n",
      "\n",
      "Objective did not converge. You might want to increase the number of iterations. Duality gap: 427118832.59168977, tolerance: 254190.41071816545\n",
      "\n",
      "C:\\Users\\33666\\anaconda3\\lib\\site-packages\\sklearn\\linear_model\\_coordinate_descent.py:525: ConvergenceWarning:\n",
      "\n",
      "Objective did not converge. You might want to increase the number of iterations. Duality gap: 416530048.5924462, tolerance: 253294.41513514935\n",
      "\n",
      "C:\\Users\\33666\\anaconda3\\lib\\site-packages\\sklearn\\linear_model\\_coordinate_descent.py:525: ConvergenceWarning:\n",
      "\n",
      "Objective did not converge. You might want to increase the number of iterations. Duality gap: 425092772.38891226, tolerance: 253294.41513514935\n",
      "\n",
      "C:\\Users\\33666\\anaconda3\\lib\\site-packages\\sklearn\\linear_model\\_coordinate_descent.py:525: ConvergenceWarning:\n",
      "\n",
      "Objective did not converge. You might want to increase the number of iterations. Duality gap: 419804208.2990926, tolerance: 255388.89238408534\n",
      "\n",
      "C:\\Users\\33666\\anaconda3\\lib\\site-packages\\sklearn\\linear_model\\_coordinate_descent.py:525: ConvergenceWarning:\n",
      "\n",
      "Objective did not converge. You might want to increase the number of iterations. Duality gap: 428056031.3817916, tolerance: 255388.89238408534\n",
      "\n",
      "C:\\Users\\33666\\anaconda3\\lib\\site-packages\\sklearn\\linear_model\\_coordinate_descent.py:525: ConvergenceWarning:\n",
      "\n",
      "Objective did not converge. You might want to increase the number of iterations. Duality gap: 362037082.5150819, tolerance: 253365.16861844136\n",
      "\n",
      "C:\\Users\\33666\\anaconda3\\lib\\site-packages\\sklearn\\linear_model\\_coordinate_descent.py:525: ConvergenceWarning:\n",
      "\n",
      "Objective did not converge. You might want to increase the number of iterations. Duality gap: 429333772.57572895, tolerance: 253365.16861844136\n",
      "\n",
      "C:\\Users\\33666\\anaconda3\\lib\\site-packages\\sklearn\\linear_model\\_coordinate_descent.py:525: ConvergenceWarning:\n",
      "\n",
      "Objective did not converge. You might want to increase the number of iterations. Duality gap: 373471807.30072093, tolerance: 254162.18620016405\n",
      "\n",
      "C:\\Users\\33666\\anaconda3\\lib\\site-packages\\sklearn\\linear_model\\_coordinate_descent.py:525: ConvergenceWarning:\n",
      "\n",
      "Objective did not converge. You might want to increase the number of iterations. Duality gap: 427210148.5215602, tolerance: 254162.18620016405\n",
      "\n",
      "C:\\Users\\33666\\anaconda3\\lib\\site-packages\\sklearn\\linear_model\\_coordinate_descent.py:525: ConvergenceWarning:\n",
      "\n",
      "Objective did not converge. You might want to increase the number of iterations. Duality gap: 366329222.63855404, tolerance: 257479.9890950616\n",
      "\n",
      "C:\\Users\\33666\\anaconda3\\lib\\site-packages\\sklearn\\linear_model\\_coordinate_descent.py:525: ConvergenceWarning:\n",
      "\n",
      "Objective did not converge. You might want to increase the number of iterations. Duality gap: 434468178.9780446, tolerance: 257479.9890950616\n",
      "\n",
      "C:\\Users\\33666\\anaconda3\\lib\\site-packages\\sklearn\\linear_model\\_coordinate_descent.py:525: ConvergenceWarning:\n",
      "\n",
      "Objective did not converge. You might want to increase the number of iterations. Duality gap: 425381491.0391432, tolerance: 255131.1439331583\n",
      "\n",
      "C:\\Users\\33666\\anaconda3\\lib\\site-packages\\sklearn\\linear_model\\_coordinate_descent.py:525: ConvergenceWarning:\n",
      "\n",
      "Objective did not converge. You might want to increase the number of iterations. Duality gap: 434127633.5623953, tolerance: 255131.1439331583\n",
      "\n",
      "C:\\Users\\33666\\anaconda3\\lib\\site-packages\\sklearn\\linear_model\\_coordinate_descent.py:525: ConvergenceWarning:\n",
      "\n",
      "Objective did not converge. You might want to increase the number of iterations. Duality gap: 418135064.00795674, tolerance: 251376.8680880066\n",
      "\n",
      "C:\\Users\\33666\\anaconda3\\lib\\site-packages\\sklearn\\linear_model\\_coordinate_descent.py:525: ConvergenceWarning:\n",
      "\n",
      "Objective did not converge. You might want to increase the number of iterations. Duality gap: 424030769.6465889, tolerance: 251376.8680880066\n",
      "\n",
      "C:\\Users\\33666\\anaconda3\\lib\\site-packages\\sklearn\\linear_model\\_coordinate_descent.py:525: ConvergenceWarning:\n",
      "\n",
      "Objective did not converge. You might want to increase the number of iterations. Duality gap: 429527079.87217116, tolerance: 254288.83542615257\n",
      "\n"
     ]
    },
    {
     "name": "stdout",
     "output_type": "stream",
     "text": [
      "Alpha chosi par Lasso :  0.1\n",
      "score test : 0.6652265874984444\n",
      "mse test : 131427.47625405935\n"
     ]
    },
    {
     "name": "stderr",
     "output_type": "stream",
     "text": [
      "C:\\Users\\33666\\anaconda3\\lib\\site-packages\\sklearn\\linear_model\\_coordinate_descent.py:525: ConvergenceWarning:\n",
      "\n",
      "Objective did not converge. You might want to increase the number of iterations. Duality gap: 433864471.80248225, tolerance: 254288.83542615257\n",
      "\n",
      "C:\\Users\\33666\\anaconda3\\lib\\site-packages\\sklearn\\linear_model\\_coordinate_descent.py:525: ConvergenceWarning:\n",
      "\n",
      "Objective did not converge. You might want to increase the number of iterations. Duality gap: 430864402.4411466, tolerance: 256107.912434717\n",
      "\n",
      "C:\\Users\\33666\\anaconda3\\lib\\site-packages\\sklearn\\linear_model\\_coordinate_descent.py:525: ConvergenceWarning:\n",
      "\n",
      "Objective did not converge. You might want to increase the number of iterations. Duality gap: 435215298.74031144, tolerance: 256107.912434717\n",
      "\n",
      "C:\\Users\\33666\\anaconda3\\lib\\site-packages\\sklearn\\utils\\validation.py:508: UserWarning:\n",
      "\n",
      "pandas.DataFrame with sparse columns found.It will be converted to a dense numpy array.\n",
      "\n",
      "C:\\Users\\33666\\anaconda3\\lib\\site-packages\\sklearn\\utils\\validation.py:508: UserWarning:\n",
      "\n",
      "pandas.DataFrame with sparse columns found.It will be converted to a dense numpy array.\n",
      "\n"
     ]
    }
   ],
   "source": [
    "#Nous disposons ainsi de scénarios de solutions pour différentes valeurs de  αα . Mais nous ne savons pas laquelle est la plus performante en prédiction.\n",
    "#Il existe, tout comme pour la régression Ridge, une classe LassoCV qui permet de\n",
    "#trouver le  αα  optimal en fonction de la performance prédictive, par validation croisée.\n",
    "\n",
    "from sklearn.linear_model import LassoCV\n",
    "\n",
    "model_lasso = LassoCV(alphas=(1e-15,1e-13,1e-10,1e-8,1e-5,1e-4,1e-3,1e-2, 0.1, 0.3, 0.7, 1, 10, 50, 100, 4000,10000),cv=10).fit(X_train, y_train)\n",
    "\n",
    "pred_test = model_lasso.predict(X_test)\n",
    "\n",
    "print( 'Alpha chosi par Lasso : ', model_lasso.alpha_)\n",
    "print('score test :', model_lasso.score(X_test, y_test))\n",
    "print('mse test :', mean_squared_error(pred_test, y_test))\n"
   ]
  },
  {
   "cell_type": "markdown",
   "id": "f4fab89f",
   "metadata": {},
   "source": [
    "# Support Vector Machine Regression"
   ]
  },
  {
   "cell_type": "code",
   "execution_count": 38,
   "id": "3e331b58",
   "metadata": {},
   "outputs": [
    {
     "name": "stderr",
     "output_type": "stream",
     "text": [
      "C:\\Users\\hhp\\anaconda3\\lib\\site-packages\\sklearn\\utils\\validation.py:515: UserWarning:\n",
      "\n",
      "pandas.DataFrame with sparse columns found.It will be converted to a dense numpy array.\n",
      "\n"
     ]
    },
    {
     "name": "stdout",
     "output_type": "stream",
     "text": [
      "Best r2 accuracy : 51.37% with Gamma & C : SVR(C=1001, gamma=0.001)\n"
     ]
    }
   ],
   "source": [
    "parameters = {'C': [0.1, 1.1, 1001],\n",
    "              'gamma':[0.001,0.01, 0.025, 0.05, 0.75, 0.1, 0.25, 0.5,1]}\n",
    "grid = GridSearchCV(svm.SVR(), parameters, n_jobs=-1, cv=5)\n",
    "grid.fit(X_train,y_train)\n",
    "print('Best r2 accuracy : ' + str(round(grid.best_score_ * 100,2)) + '% with Gamma & C : ' + str(grid.best_estimator_))"
   ]
  },
  {
   "cell_type": "markdown",
   "id": "ec81afb5",
   "metadata": {},
   "source": [
    "# Decision Tree"
   ]
  },
  {
   "cell_type": "code",
   "execution_count": 152,
   "id": "11858386",
   "metadata": {},
   "outputs": [
    {
     "name": "stdout",
     "output_type": "stream",
     "text": [
      "score train:  1.0\n",
      "score test:  0.7415423651605764\n",
      "mse train : 0.0\n",
      "root mse test : 318.5387616998235\n"
     ]
    },
    {
     "name": "stderr",
     "output_type": "stream",
     "text": [
      "C:\\Users\\33666\\anaconda3\\lib\\site-packages\\sklearn\\utils\\validation.py:508: UserWarning:\n",
      "\n",
      "pandas.DataFrame with sparse columns found.It will be converted to a dense numpy array.\n",
      "\n",
      "C:\\Users\\33666\\anaconda3\\lib\\site-packages\\sklearn\\utils\\validation.py:508: UserWarning:\n",
      "\n",
      "pandas.DataFrame with sparse columns found.It will be converted to a dense numpy array.\n",
      "\n",
      "C:\\Users\\33666\\anaconda3\\lib\\site-packages\\sklearn\\utils\\validation.py:508: UserWarning:\n",
      "\n",
      "pandas.DataFrame with sparse columns found.It will be converted to a dense numpy array.\n",
      "\n",
      "C:\\Users\\33666\\anaconda3\\lib\\site-packages\\sklearn\\utils\\validation.py:508: UserWarning:\n",
      "\n",
      "pandas.DataFrame with sparse columns found.It will be converted to a dense numpy array.\n",
      "\n",
      "C:\\Users\\33666\\anaconda3\\lib\\site-packages\\sklearn\\utils\\validation.py:508: UserWarning:\n",
      "\n",
      "pandas.DataFrame with sparse columns found.It will be converted to a dense numpy array.\n",
      "\n"
     ]
    }
   ],
   "source": [
    "# Decision Tree:\n",
    "\n",
    "from sklearn.tree import DecisionTreeRegressor \n",
    "\n",
    "regressor_model = DecisionTreeRegressor(random_state = 0)\n",
    "\n",
    "regressor_model.fit(X_train,y_train)\n",
    "\n",
    "print('score train: ', regressor_model.score(X_train, y_train))\n",
    "print('score test: ', regressor_model.score(X_test, y_test))\n",
    "\n",
    "regressor_pred_train = regressor_model.predict(X_train)\n",
    "regressor_pred_test = regressor_model.predict(X_test)\n",
    "\n",
    "print('mse train :', mean_squared_error(regressor_pred_train, y_train))\n",
    "print('root mse test :', mean_squared_error(regressor_pred_test, y_test,squared=False))\n",
    "\n"
   ]
  },
  {
   "cell_type": "code",
   "execution_count": 153,
   "id": "4a9210ff",
   "metadata": {},
   "outputs": [],
   "source": [
    "# Decision Tree Classifier:\n",
    "\n",
    "from sklearn.tree import DecisionTreeClassifier\n",
    "from sklearn.metrics import accuracy_score\n",
    "from sklearn import tree\n"
   ]
  },
  {
   "cell_type": "code",
   "execution_count": 154,
   "id": "a686d0ec",
   "metadata": {},
   "outputs": [
    {
     "name": "stderr",
     "output_type": "stream",
     "text": [
      "C:\\Users\\33666\\anaconda3\\lib\\site-packages\\sklearn\\utils\\validation.py:508: UserWarning:\n",
      "\n",
      "pandas.DataFrame with sparse columns found.It will be converted to a dense numpy array.\n",
      "\n"
     ]
    },
    {
     "data": {
      "text/plain": [
       "DecisionTreeClassifier(criterion='entropy', max_depth=3, min_samples_leaf=5,\n",
       "                       random_state=100)"
      ]
     },
     "execution_count": 154,
     "metadata": {},
     "output_type": "execute_result"
    }
   ],
   "source": [
    "clf_entropy = DecisionTreeClassifier(criterion = \"entropy\",\n",
    "                                    random_state = 100,\n",
    "                                    max_depth = 3,\n",
    "                                    min_samples_leaf = 5)\n",
    "clf_entropy.fit(X_train, y_train)\n"
   ]
  },
  {
   "cell_type": "code",
   "execution_count": 155,
   "id": "b1c7a30d",
   "metadata": {},
   "outputs": [
    {
     "name": "stderr",
     "output_type": "stream",
     "text": [
      "C:\\Users\\33666\\anaconda3\\lib\\site-packages\\sklearn\\utils\\validation.py:508: UserWarning:\n",
      "\n",
      "pandas.DataFrame with sparse columns found.It will be converted to a dense numpy array.\n",
      "\n"
     ]
    },
    {
     "data": {
      "text/plain": [
       "array([928, 848,  17, ...,  17, 928, 848], dtype=int64)"
      ]
     },
     "execution_count": 155,
     "metadata": {},
     "output_type": "execute_result"
    }
   ],
   "source": [
    "\n",
    "y_pred_en = clf_entropy.predict(X_test)\n",
    "y_pred_en\n"
   ]
  },
  {
   "cell_type": "code",
   "execution_count": 156,
   "id": "bf37764d",
   "metadata": {},
   "outputs": [
    {
     "name": "stdout",
     "output_type": "stream",
     "text": [
      "Accuracy: 0.11813349084465447 %\n"
     ]
    }
   ],
   "source": [
    "print((\"Accuracy:\"), accuracy_score(y_test, y_pred_en)*100, (\"%\"))"
   ]
  },
  {
   "cell_type": "markdown",
   "id": "0b706711",
   "metadata": {},
   "source": [
    "# Bagging"
   ]
  },
  {
   "cell_type": "code",
   "execution_count": 157,
   "id": "7d77f420",
   "metadata": {},
   "outputs": [
    {
     "name": "stderr",
     "output_type": "stream",
     "text": [
      "C:\\Users\\33666\\anaconda3\\lib\\site-packages\\sklearn\\utils\\validation.py:508: UserWarning:\n",
      "\n",
      "pandas.DataFrame with sparse columns found.It will be converted to a dense numpy array.\n",
      "\n",
      "C:\\Users\\33666\\anaconda3\\lib\\site-packages\\sklearn\\utils\\validation.py:508: UserWarning:\n",
      "\n",
      "pandas.DataFrame with sparse columns found.It will be converted to a dense numpy array.\n",
      "\n"
     ]
    }
   ],
   "source": [
    "from sklearn.ensemble import BaggingRegressor\n",
    "bg_model=BaggingRegressor()\n",
    "bg_model.fit(X_train,y_train)\n",
    "\n",
    "y_pred=bg_model.predict(X_test)"
   ]
  },
  {
   "cell_type": "code",
   "execution_count": 158,
   "id": "c4f9e720",
   "metadata": {},
   "outputs": [
    {
     "name": "stdout",
     "output_type": "stream",
     "text": [
      "score train:  97.32067315385038 %\n",
      "score test:  83.63407222927695 %\n"
     ]
    },
    {
     "name": "stderr",
     "output_type": "stream",
     "text": [
      "C:\\Users\\33666\\anaconda3\\lib\\site-packages\\sklearn\\utils\\validation.py:508: UserWarning:\n",
      "\n",
      "pandas.DataFrame with sparse columns found.It will be converted to a dense numpy array.\n",
      "\n",
      "C:\\Users\\33666\\anaconda3\\lib\\site-packages\\sklearn\\utils\\validation.py:508: UserWarning:\n",
      "\n",
      "pandas.DataFrame with sparse columns found.It will be converted to a dense numpy array.\n",
      "\n"
     ]
    }
   ],
   "source": [
    "print('score train: ', bg_model.score(X_train, y_train)*100,\"%\")\n",
    "print('score test: ', bg_model.score(X_test, y_test)*100,\"%\")"
   ]
  },
  {
   "cell_type": "code",
   "execution_count": 159,
   "id": "d8928774",
   "metadata": {},
   "outputs": [
    {
     "data": {
      "text/plain": [
       "0.8363407222927696"
      ]
     },
     "execution_count": 159,
     "metadata": {},
     "output_type": "execute_result"
    }
   ],
   "source": [
    "from sklearn.metrics import r2_score\n",
    "r2_score(y_test,y_pred)"
   ]
  },
  {
   "cell_type": "code",
   "execution_count": 160,
   "id": "1ee9937b",
   "metadata": {},
   "outputs": [
    {
     "data": {
      "text/plain": [
       "253.47662715501144"
      ]
     },
     "execution_count": 160,
     "metadata": {},
     "output_type": "execute_result"
    }
   ],
   "source": [
    "from sklearn.metrics import mean_squared_error\n",
    "mean_squared_error(y_test,y_pred,squared = False)"
   ]
  },
  {
   "cell_type": "markdown",
   "id": "3bed3ca2",
   "metadata": {},
   "source": [
    "Nous obtenons des bons scores pour le bagging."
   ]
  },
  {
   "cell_type": "code",
   "execution_count": 161,
   "id": "ccf1b1a3",
   "metadata": {},
   "outputs": [
    {
     "data": {
      "text/plain": [
       "Text(0, 0.5, 'Prediction')"
      ]
     },
     "execution_count": 161,
     "metadata": {},
     "output_type": "execute_result"
    },
    {
     "data": {
      "image/png": "[encoded data removed]",
      "text/plain": [
       "<Figure size 1440x360 with 1 Axes>"
      ]
     },
     "metadata": {},
     "output_type": "display_data"
    }
   ],
   "source": [
    "fig,ax = plt.subplots()\n",
    "\n",
    "scatter = sns.scatterplot(x=y_test, y=y_pred)\n",
    "line = sns.lineplot(x=[min(y_test),max(y_test)], y=[min(y_test),max(y_test)],color=\"r\")\n",
    "\n",
    "plt.title('Bagging: Actuel vs Prediction',fontsize=23, fontweight=\"bold\")\n",
    "plt.xlabel('Actuel')\n",
    "plt.ylabel('Prediction')             "
   ]
  },
  {
   "cell_type": "markdown",
   "id": "40d8b575",
   "metadata": {},
   "source": [
    "# RandomForestRegressor"
   ]
  },
  {
   "cell_type": "code",
   "execution_count": 162,
   "id": "23c31afd",
   "metadata": {},
   "outputs": [
    {
     "name": "stderr",
     "output_type": "stream",
     "text": [
      "C:\\Users\\33666\\anaconda3\\lib\\site-packages\\sklearn\\utils\\validation.py:508: UserWarning:\n",
      "\n",
      "pandas.DataFrame with sparse columns found.It will be converted to a dense numpy array.\n",
      "\n",
      "C:\\Users\\33666\\anaconda3\\lib\\site-packages\\sklearn\\utils\\validation.py:508: UserWarning:\n",
      "\n",
      "pandas.DataFrame with sparse columns found.It will be converted to a dense numpy array.\n",
      "\n"
     ]
    }
   ],
   "source": [
    "from sklearn.ensemble import RandomForestRegressor\n",
    "\n",
    "rf_model=RandomForestRegressor()\n",
    "rf_model.fit(X_train,y_train)\n",
    "\n",
    "y_pred=rf_model.predict(X_test)"
   ]
  },
  {
   "cell_type": "code",
   "execution_count": 163,
   "id": "25ff8590",
   "metadata": {},
   "outputs": [
    {
     "name": "stderr",
     "output_type": "stream",
     "text": [
      "C:\\Users\\33666\\anaconda3\\lib\\site-packages\\sklearn\\utils\\validation.py:508: UserWarning:\n",
      "\n",
      "pandas.DataFrame with sparse columns found.It will be converted to a dense numpy array.\n",
      "\n",
      "C:\\Users\\33666\\anaconda3\\lib\\site-packages\\sklearn\\utils\\validation.py:508: UserWarning:\n",
      "\n",
      "pandas.DataFrame with sparse columns found.It will be converted to a dense numpy array.\n",
      "\n"
     ]
    },
    {
     "name": "stdout",
     "output_type": "stream",
     "text": [
      "score train:  98.08323764062936 %\n",
      "score test:  85.27606812026087 %\n"
     ]
    }
   ],
   "source": [
    "print('score train: ', rf_model.score(X_train, y_train)*100,\"%\")\n",
    "print('score test: ', rf_model.score(X_test, y_test)*100,\"%\")"
   ]
  },
  {
   "cell_type": "code",
   "execution_count": 164,
   "id": "752b025f",
   "metadata": {},
   "outputs": [
    {
     "data": {
      "text/plain": [
       "0.8527606812026087"
      ]
     },
     "execution_count": 164,
     "metadata": {},
     "output_type": "execute_result"
    }
   ],
   "source": [
    "r2_score(y_test,y_pred)"
   ]
  },
  {
   "cell_type": "code",
   "execution_count": 165,
   "id": "e334a526",
   "metadata": {},
   "outputs": [
    {
     "data": {
      "text/plain": [
       "240.42493334537656"
      ]
     },
     "execution_count": 165,
     "metadata": {},
     "output_type": "execute_result"
    }
   ],
   "source": [
    "mean_squared_error(y_test,y_pred,squared = False)"
   ]
  },
  {
   "cell_type": "markdown",
   "id": "a46163d3",
   "metadata": {},
   "source": [
    "Random Forest est notre meilleur modèle pour l'instant."
   ]
  },
  {
   "cell_type": "code",
   "execution_count": 166,
   "id": "6146469b",
   "metadata": {},
   "outputs": [
    {
     "data": {
      "text/plain": [
       "Text(0, 0.5, 'Prediction')"
      ]
     },
     "execution_count": 166,
     "metadata": {},
     "output_type": "execute_result"
    },
    {
     "data": {
      "image/png": "[encoded data removed]",
      "text/plain": [
       "<Figure size 1440x360 with 1 Axes>"
      ]
     },
     "metadata": {},
     "output_type": "display_data"
    }
   ],
   "source": [
    "fig,ax = plt.subplots()\n",
    "\n",
    "scatter = sns.scatterplot(x=y_test, y=y_pred)\n",
    "line = sns.lineplot(x=[min(y_test),max(y_test)], y=[min(y_test),max(y_test)],color=\"r\")\n",
    "\n",
    "plt.title('Random Forest: Actuel vs Prediction',fontsize=23, fontweight=\"bold\")\n",
    "plt.xlabel('Actuel')\n",
    "plt.ylabel('Prediction')     "
   ]
  },
  {
   "cell_type": "code",
   "execution_count": 167,
   "id": "13e69401",
   "metadata": {},
   "outputs": [
    {
     "name": "stderr",
     "output_type": "stream",
     "text": [
      "C:\\Users\\33666\\anaconda3\\lib\\site-packages\\sklearn\\utils\\validation.py:508: UserWarning:\n",
      "\n",
      "pandas.DataFrame with sparse columns found.It will be converted to a dense numpy array.\n",
      "\n",
      "C:\\Users\\33666\\anaconda3\\lib\\site-packages\\sklearn\\utils\\validation.py:508: UserWarning:\n",
      "\n",
      "pandas.DataFrame with sparse columns found.It will be converted to a dense numpy array.\n",
      "\n",
      "C:\\Users\\33666\\anaconda3\\lib\\site-packages\\sklearn\\utils\\validation.py:508: UserWarning:\n",
      "\n",
      "pandas.DataFrame with sparse columns found.It will be converted to a dense numpy array.\n",
      "\n",
      "C:\\Users\\33666\\anaconda3\\lib\\site-packages\\sklearn\\utils\\validation.py:508: UserWarning:\n",
      "\n",
      "pandas.DataFrame with sparse columns found.It will be converted to a dense numpy array.\n",
      "\n",
      "C:\\Users\\33666\\anaconda3\\lib\\site-packages\\sklearn\\utils\\validation.py:508: UserWarning:\n",
      "\n",
      "pandas.DataFrame with sparse columns found.It will be converted to a dense numpy array.\n",
      "\n",
      "C:\\Users\\33666\\anaconda3\\lib\\site-packages\\sklearn\\utils\\validation.py:508: UserWarning:\n",
      "\n",
      "pandas.DataFrame with sparse columns found.It will be converted to a dense numpy array.\n",
      "\n",
      "C:\\Users\\33666\\anaconda3\\lib\\site-packages\\sklearn\\utils\\validation.py:508: UserWarning:\n",
      "\n",
      "pandas.DataFrame with sparse columns found.It will be converted to a dense numpy array.\n",
      "\n",
      "C:\\Users\\33666\\anaconda3\\lib\\site-packages\\sklearn\\utils\\validation.py:508: UserWarning:\n",
      "\n",
      "pandas.DataFrame with sparse columns found.It will be converted to a dense numpy array.\n",
      "\n",
      "C:\\Users\\33666\\anaconda3\\lib\\site-packages\\sklearn\\utils\\validation.py:508: UserWarning:\n",
      "\n",
      "pandas.DataFrame with sparse columns found.It will be converted to a dense numpy array.\n",
      "\n",
      "C:\\Users\\33666\\anaconda3\\lib\\site-packages\\sklearn\\utils\\validation.py:508: UserWarning:\n",
      "\n",
      "pandas.DataFrame with sparse columns found.It will be converted to a dense numpy array.\n",
      "\n",
      "C:\\Users\\33666\\anaconda3\\lib\\site-packages\\sklearn\\utils\\validation.py:508: UserWarning:\n",
      "\n",
      "pandas.DataFrame with sparse columns found.It will be converted to a dense numpy array.\n",
      "\n",
      "C:\\Users\\33666\\anaconda3\\lib\\site-packages\\sklearn\\utils\\validation.py:508: UserWarning:\n",
      "\n",
      "pandas.DataFrame with sparse columns found.It will be converted to a dense numpy array.\n",
      "\n",
      "C:\\Users\\33666\\anaconda3\\lib\\site-packages\\sklearn\\utils\\validation.py:508: UserWarning:\n",
      "\n",
      "pandas.DataFrame with sparse columns found.It will be converted to a dense numpy array.\n",
      "\n",
      "C:\\Users\\33666\\anaconda3\\lib\\site-packages\\sklearn\\utils\\validation.py:508: UserWarning:\n",
      "\n",
      "pandas.DataFrame with sparse columns found.It will be converted to a dense numpy array.\n",
      "\n",
      "C:\\Users\\33666\\anaconda3\\lib\\site-packages\\sklearn\\utils\\validation.py:508: UserWarning:\n",
      "\n",
      "pandas.DataFrame with sparse columns found.It will be converted to a dense numpy array.\n",
      "\n",
      "C:\\Users\\33666\\anaconda3\\lib\\site-packages\\sklearn\\utils\\validation.py:508: UserWarning:\n",
      "\n",
      "pandas.DataFrame with sparse columns found.It will be converted to a dense numpy array.\n",
      "\n",
      "C:\\Users\\33666\\anaconda3\\lib\\site-packages\\sklearn\\utils\\validation.py:508: UserWarning:\n",
      "\n",
      "pandas.DataFrame with sparse columns found.It will be converted to a dense numpy array.\n",
      "\n",
      "C:\\Users\\33666\\anaconda3\\lib\\site-packages\\sklearn\\utils\\validation.py:508: UserWarning:\n",
      "\n",
      "pandas.DataFrame with sparse columns found.It will be converted to a dense numpy array.\n",
      "\n",
      "C:\\Users\\33666\\anaconda3\\lib\\site-packages\\sklearn\\utils\\validation.py:508: UserWarning:\n",
      "\n",
      "pandas.DataFrame with sparse columns found.It will be converted to a dense numpy array.\n",
      "\n",
      "C:\\Users\\33666\\anaconda3\\lib\\site-packages\\sklearn\\utils\\validation.py:508: UserWarning:\n",
      "\n",
      "pandas.DataFrame with sparse columns found.It will be converted to a dense numpy array.\n",
      "\n",
      "C:\\Users\\33666\\anaconda3\\lib\\site-packages\\sklearn\\utils\\validation.py:508: UserWarning:\n",
      "\n",
      "pandas.DataFrame with sparse columns found.It will be converted to a dense numpy array.\n",
      "\n",
      "C:\\Users\\33666\\anaconda3\\lib\\site-packages\\sklearn\\utils\\validation.py:508: UserWarning:\n",
      "\n",
      "pandas.DataFrame with sparse columns found.It will be converted to a dense numpy array.\n",
      "\n",
      "C:\\Users\\33666\\anaconda3\\lib\\site-packages\\sklearn\\utils\\validation.py:508: UserWarning:\n",
      "\n",
      "pandas.DataFrame with sparse columns found.It will be converted to a dense numpy array.\n",
      "\n",
      "C:\\Users\\33666\\anaconda3\\lib\\site-packages\\sklearn\\utils\\validation.py:508: UserWarning:\n",
      "\n",
      "pandas.DataFrame with sparse columns found.It will be converted to a dense numpy array.\n",
      "\n",
      "C:\\Users\\33666\\anaconda3\\lib\\site-packages\\sklearn\\utils\\validation.py:508: UserWarning:\n",
      "\n",
      "pandas.DataFrame with sparse columns found.It will be converted to a dense numpy array.\n",
      "\n",
      "C:\\Users\\33666\\anaconda3\\lib\\site-packages\\sklearn\\utils\\validation.py:508: UserWarning:\n",
      "\n",
      "pandas.DataFrame with sparse columns found.It will be converted to a dense numpy array.\n",
      "\n",
      "C:\\Users\\33666\\anaconda3\\lib\\site-packages\\sklearn\\utils\\validation.py:508: UserWarning:\n",
      "\n",
      "pandas.DataFrame with sparse columns found.It will be converted to a dense numpy array.\n",
      "\n",
      "C:\\Users\\33666\\anaconda3\\lib\\site-packages\\sklearn\\utils\\validation.py:508: UserWarning:\n",
      "\n",
      "pandas.DataFrame with sparse columns found.It will be converted to a dense numpy array.\n",
      "\n",
      "C:\\Users\\33666\\anaconda3\\lib\\site-packages\\sklearn\\utils\\validation.py:508: UserWarning:\n",
      "\n",
      "pandas.DataFrame with sparse columns found.It will be converted to a dense numpy array.\n",
      "\n"
     ]
    },
    {
     "name": "stdout",
     "output_type": "stream",
     "text": [
      "Cross Score Validation pour RandomForestRegressor 86.14802299742188 %\n",
      "Cross Score Validation pour DecisionTreeRegressor 74.79894741831353 %\n",
      "Cross Score Validation pour BaggingRegressor 84.88473872918703 %\n"
     ]
    },
    {
     "name": "stderr",
     "output_type": "stream",
     "text": [
      "C:\\Users\\33666\\anaconda3\\lib\\site-packages\\sklearn\\utils\\validation.py:508: UserWarning:\n",
      "\n",
      "pandas.DataFrame with sparse columns found.It will be converted to a dense numpy array.\n",
      "\n"
     ]
    }
   ],
   "source": [
    "from sklearn.model_selection import cross_val_score\n",
    "\n",
    "cvRF_mean = cross_val_score(estimator = RandomForestRegressor(), X = X_train, y = y_train, cv = 5)\n",
    "\n",
    "\n",
    "cvDT_mean = cross_val_score(estimator = DecisionTreeRegressor(), X = X_train, y = y_train, cv = 5)\n",
    "\n",
    "\n",
    "cvBG_mean = cross_val_score(estimator = BaggingRegressor(), X = X_train, y = y_train, cv = 5)\n",
    "\n",
    "\n",
    "print(\"Cross Score Validation pour RandomForestRegressor\",cvRF_mean.mean()*100,\"%\")\n",
    "print(\"Cross Score Validation pour DecisionTreeRegressor\",cvDT_mean.mean()*100,\"%\")\n",
    "print(\"Cross Score Validation pour BaggingRegressor\",cvBG_mean.mean()*100,\"%\")"
   ]
  },
  {
   "cell_type": "markdown",
   "id": "64ae36d6",
   "metadata": {},
   "source": [
    "Notre meilleur modèle est donc le RandomForestRegressor()."
   ]
  },
  {
   "cell_type": "markdown",
   "id": "6c560a5b",
   "metadata": {},
   "source": [
    "### API : RandomForestRegressor()"
   ]
  },
  {
   "cell_type": "code",
   "execution_count": 168,
   "id": "bdc7f9bf",
   "metadata": {},
   "outputs": [],
   "source": [
    "import pickle\n",
    "import requests \n",
    "import json"
   ]
  },
  {
   "cell_type": "code",
   "execution_count": 169,
   "id": "801df0f1",
   "metadata": {},
   "outputs": [],
   "source": [
    "pickle.dump(rf_model, open('model.pkl','wb'))"
   ]
  },
  {
   "cell_type": "code",
   "execution_count": 182,
   "id": "3c069d0b",
   "metadata": {},
   "outputs": [
    {
     "name": "stdout",
     "output_type": "stream",
     "text": [
      "[1152.03]\n"
     ]
    }
   ],
   "source": [
    "model = pickle.load(open('model.pkl','rb'))\n",
    "print(model.predict([[35.60, 44.00, 2.40, 1860.00, 1.69, 0.00, 0.00, 2018.00, 7.00, 8.00, 0.00, 0.00, 0.00, 0.00, 0.00, 0.00, 0.00, 0.00, 0.00, 1.00, 0.00, 0.00, 0.00, 0.00, 0.00, 0.00, 0.00, 0.00, 0.00, 0.00, 0.00, 0.00, 0.00, 0.00, 0.00, 0.00, 1.00, 0.00, 0.00, 1.00]]))"
   ]
  },
  {
   "cell_type": "code",
   "execution_count": 183,
   "id": "9982d899",
   "metadata": {},
   "outputs": [
    {
     "data": {
      "text/plain": [
       "Index(['Temperature', 'Humidity', 'Wind_speed', 'Visibility',\n",
       "       'Solar_Radiation', 'Rainfall', 'Snowfall', 'Year', 'Month', 'Day',\n",
       "       'Hour_0', 'Hour_1', 'Hour_10', 'Hour_11', 'Hour_12', 'Hour_13',\n",
       "       'Hour_14', 'Hour_15', 'Hour_16', 'Hour_17', 'Hour_18', 'Hour_19',\n",
       "       'Hour_2', 'Hour_20', 'Hour_21', 'Hour_22', 'Hour_23', 'Hour_3',\n",
       "       'Hour_4', 'Hour_5', 'Hour_6', 'Hour_7', 'Hour_8', 'Hour_9',\n",
       "       'Seasons_Autumn', 'Seasons_Spring', 'Seasons_Summer', 'Seasons_Winter',\n",
       "       'Holiday_Holiday', 'Holiday_No Holiday'],\n",
       "      dtype='object')"
      ]
     },
     "execution_count": 183,
     "metadata": {},
     "output_type": "execute_result"
    }
   ],
   "source": [
    "X_test.columns"
   ]
  },
  {
   "cell_type": "code",
   "execution_count": 184,
   "id": "3ed31b50",
   "metadata": {},
   "outputs": [
    {
     "data": {
      "text/plain": [
       "Temperature             35.60\n",
       "Humidity                44.00\n",
       "Wind_speed               2.40\n",
       "Visibility            1860.00\n",
       "Solar_Radiation          1.69\n",
       "Rainfall                 0.00\n",
       "Snowfall                 0.00\n",
       "Year                  2018.00\n",
       "Month                    7.00\n",
       "Day                      8.00\n",
       "Hour_0                   0.00\n",
       "Hour_1                   0.00\n",
       "Hour_10                  0.00\n",
       "Hour_11                  0.00\n",
       "Hour_12                  0.00\n",
       "Hour_13                  0.00\n",
       "Hour_14                  0.00\n",
       "Hour_15                  0.00\n",
       "Hour_16                  0.00\n",
       "Hour_17                  1.00\n",
       "Hour_18                  0.00\n",
       "Hour_19                  0.00\n",
       "Hour_2                   0.00\n",
       "Hour_20                  0.00\n",
       "Hour_21                  0.00\n",
       "Hour_22                  0.00\n",
       "Hour_23                  0.00\n",
       "Hour_3                   0.00\n",
       "Hour_4                   0.00\n",
       "Hour_5                   0.00\n",
       "Hour_6                   0.00\n",
       "Hour_7                   0.00\n",
       "Hour_8                   0.00\n",
       "Hour_9                   0.00\n",
       "Seasons_Autumn           0.00\n",
       "Seasons_Spring           0.00\n",
       "Seasons_Summer           1.00\n",
       "Seasons_Winter           0.00\n",
       "Holiday_Holiday          0.00\n",
       "Holiday_No Holiday       1.00\n",
       "Name: 5993, dtype: Sparse[float64, 0]"
      ]
     },
     "execution_count": 184,
     "metadata": {},
     "output_type": "execute_result"
    }
   ],
   "source": [
    "X_test.loc[5993]"
   ]
  }
 ],
 "metadata": {
  "kernelspec": {
   "display_name": "Python 3",
   "language": "python",
   "name": "python3"
  },
  "language_info": {
   "codemirror_mode": {
    "name": "ipython",
    "version": 3
   },
   "file_extension": ".py",
   "mimetype": "text/x-python",
   "name": "python",
   "nbconvert_exporter": "python",
   "pygments_lexer": "ipython3",
   "version": "3.8.5"
  }
 },
 "nbformat": 4,
 "nbformat_minor": 5
}
